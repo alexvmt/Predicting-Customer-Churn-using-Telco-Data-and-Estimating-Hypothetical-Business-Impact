{
 "cells": [
  {
   "cell_type": "markdown",
   "metadata": {
    "_cell_guid": "b1076dfc-b9ad-4769-8c92-a6c4dae69d19",
    "_uuid": "0b88cbfa23cc32bb3b87acb105add7a19004e353"
   },
   "source": [
    "## **Predicting Customer Churn using Telco Data + Estimating Hypothetical Business Impact**\n",
    "\n",
    "\n",
    "In this kernel we explore customer churn in the telecommunication industry, using Logistic Regression to predict whether a customer will churn or not. We conclude the analysis by estimating the hypothetical business impact (i.e. potential cost savings in this case) that such a churn prediction model could achieve by correctly identifying those customers would potentially churn.\n",
    "\n",
    "\n",
    "**Overview**\n",
    "\n",
    "- <a href='#1'>1. Business problem</a>\n",
    "\n",
    "\n",
    "- <a href='#2'>2. Get the data</a>\n",
    "    - <a href='#2.1.'>2.1. Data overview</a>\n",
    "\n",
    "\n",
    "- <a href='#3'>3. Clean the data</a>\n",
    "    - <a href='#3.1.'>3.1. Drop unnecessary columns</a>\n",
    "    - <a href='#3.2.'>3.2. Convert data types</a>\n",
    "    - <a href='#3.3.'>3.3. Check missing values</a>\n",
    "\n",
    "\n",
    "- <a href='#4'>4. Explore the data</a>\n",
    "    - <a href='#4.1.'>4.1. The target</a>\n",
    "    - <a href='#4.2.'>4.2. Categorical  features</a>\n",
    "    - <a href='#4.3.'>4.3. Numerical features</a>\n",
    "\n",
    "\n",
    "- <a href='#5'>5. Modeling</a>\n",
    "    - <a href='#5.1.'>5.1. Preprocessing</a>\n",
    "    - <a href='#5.2.'>5.2. Logistic Regression</a>\n",
    "    - <a href='#5.3.'>5.3. Cross validation</a>\n",
    "    - <a href='#5.4.'>5.4. Parameter tuning</a>\n",
    "\n",
    "- <a href='#6'>6. Business impact</a>\n",
    "\n",
    "\n",
    "- <a href='#7'>7. Summary</a>\n",
    "\n",
    "\n",
    "**Inspiration** \n",
    "- [Data Optimal's blog post on: Create Better Data Science Projects With Business Impact](https://www.dataoptimal.com/churn-prediction-with-r/)\n",
    "- [Pavan Raj's kernel](https://www.kaggle.com/pavanraj159/telecom-customer-churn-prediction)\n",
    "- [Nilan's kernel](https://www.kaggle.com/nilanml/telecom-customer-churn-voting-80-1-accuracy)\n",
    "\n",
    "\n",
    "**Ideas for future work**\n",
    "- try more complex models such as tree-based models, ensembles or neural nets to improve predictive power and accuracy\n",
    "- feature engineering and feature selection\n",
    "- extract more insights from exploratory analysis\n",
    "- impute missing values\n",
    "- make code in business impact section cleaner and more efficient"
   ]
  },
  {
   "cell_type": "markdown",
   "metadata": {
    "_uuid": "331cbc59496d47001b0faa56d79dbd56a728b631"
   },
   "source": [
    "### **<a id='1'>1. Business problem</a>**"
   ]
  },
  {
   "cell_type": "markdown",
   "metadata": {
    "_uuid": "e8bcde6fdd30c080c7c96277dbaf816d9d66812e"
   },
   "source": [
    "In general, a customer who churns is a customer who quits using a company's service or product. In the case of the telecommunication industry, a customer who churns is a customer who cancels or doesn't extend the existing contract with the telco company. The key assumption here is that acquiring a new customer is more expensive than retaining an existing one. Therefore, it might be a good idea to build a model that uses existing data to identify customers who are likely to churn. Once identified, those customers can be targeted with special offers, for instance, to increase the chances of them staying with their current telco provider. Retaining customer who would churn otherwise saves the cost of acquiring new customers."
   ]
  },
  {
   "cell_type": "markdown",
   "metadata": {
    "_uuid": "e038fff98944598470f63aaff1fc712feb2557d8"
   },
   "source": [
    "### **<a id='2'>2. Get the data</a>**"
   ]
  },
  {
   "cell_type": "markdown",
   "metadata": {
    "_uuid": "ced52d1b5d61f663640b1ecb4c69f6e587cce4fb"
   },
   "source": [
    "First, we import some basic libraries and then we load the data from a csv file into a data frame."
   ]
  },
  {
   "cell_type": "code",
   "execution_count": 1,
   "metadata": {
    "_uuid": "8db2be7f7fd8a64c0a0485fc65abb5f3388e99c0"
   },
   "outputs": [],
   "source": [
    "# import libraries\n",
    "\n",
    "import numpy as np\n",
    "import pandas as pd\n",
    "\n",
    "import warnings\n",
    "warnings.filterwarnings(\"ignore\")"
   ]
  },
  {
   "cell_type": "code",
   "execution_count": 2,
   "metadata": {
    "_cell_guid": "79c7e3d0-c299-4dcb-8224-4455121ee9b0",
    "_uuid": "14990f6897fb2181d023eba3d163863a94835403"
   },
   "outputs": [],
   "source": [
    "# load the data\n",
    "\n",
    "df = pd.read_csv('WA_Fn-UseC_-Telco-Customer-Churn.csv')"
   ]
  },
  {
   "cell_type": "markdown",
   "metadata": {
    "_uuid": "f7532d4fd9b16fc31b484a9b952e9401ac4da3fd"
   },
   "source": [
    "**<a id='2.1.'>2.1. Data overview</a>**"
   ]
  },
  {
   "cell_type": "markdown",
   "metadata": {
    "_uuid": "68680e3801f0538959cdc0e83918fc3ddc707519"
   },
   "source": [
    "Let's get a first impression of what is in the data. There are 7043 instances and 21 features in the data and it contains different numeric and categorical features."
   ]
  },
  {
   "cell_type": "code",
   "execution_count": 3,
   "metadata": {
    "_uuid": "f8a227ad500bf284a4a774d3d4f3f6c2360242f6"
   },
   "outputs": [
    {
     "name": "stdout",
     "output_type": "stream",
     "text": [
      "<class 'pandas.core.frame.DataFrame'>\n",
      "RangeIndex: 7043 entries, 0 to 7042\n",
      "Data columns (total 21 columns):\n",
      "customerID          7043 non-null object\n",
      "gender              7043 non-null object\n",
      "SeniorCitizen       7043 non-null int64\n",
      "Partner             7043 non-null object\n",
      "Dependents          7043 non-null object\n",
      "tenure              7043 non-null int64\n",
      "PhoneService        7043 non-null object\n",
      "MultipleLines       7043 non-null object\n",
      "InternetService     7043 non-null object\n",
      "OnlineSecurity      7043 non-null object\n",
      "OnlineBackup        7043 non-null object\n",
      "DeviceProtection    7043 non-null object\n",
      "TechSupport         7043 non-null object\n",
      "StreamingTV         7043 non-null object\n",
      "StreamingMovies     7043 non-null object\n",
      "Contract            7043 non-null object\n",
      "PaperlessBilling    7043 non-null object\n",
      "PaymentMethod       7043 non-null object\n",
      "MonthlyCharges      7043 non-null float64\n",
      "TotalCharges        7043 non-null object\n",
      "Churn               7043 non-null object\n",
      "dtypes: float64(1), int64(2), object(18)\n",
      "memory usage: 1.1+ MB\n"
     ]
    }
   ],
   "source": [
    "# get basic information on the data\n",
    "\n",
    "df.info()"
   ]
  },
  {
   "cell_type": "markdown",
   "metadata": {
    "_uuid": "a679383753910eea6c8bf575faebb70c48e3b782"
   },
   "source": [
    "Furthermore, there are 7043 unique customers in the data."
   ]
  },
  {
   "cell_type": "code",
   "execution_count": 4,
   "metadata": {
    "_uuid": "909ab3c3d442ac0432e624f96cb51ae9219c3e97"
   },
   "outputs": [
    {
     "data": {
      "text/plain": [
       "7043"
      ]
     },
     "execution_count": 4,
     "metadata": {},
     "output_type": "execute_result"
    }
   ],
   "source": [
    "# get the number of unique customers\n",
    "\n",
    "len(df.customerID.unique())"
   ]
  },
  {
   "cell_type": "markdown",
   "metadata": {
    "_uuid": "e315ab59fd798c81b886c860621efaa65fb3e54f"
   },
   "source": [
    "Let's get an impression of what the data actually looks like."
   ]
  },
  {
   "cell_type": "code",
   "execution_count": 5,
   "metadata": {
    "_uuid": "01ff76f3965e022732a2206a0143db34b3947de7"
   },
   "outputs": [
    {
     "data": {
      "text/html": [
       "<div>\n",
       "<style scoped>\n",
       "    .dataframe tbody tr th:only-of-type {\n",
       "        vertical-align: middle;\n",
       "    }\n",
       "\n",
       "    .dataframe tbody tr th {\n",
       "        vertical-align: top;\n",
       "    }\n",
       "\n",
       "    .dataframe thead th {\n",
       "        text-align: right;\n",
       "    }\n",
       "</style>\n",
       "<table border=\"1\" class=\"dataframe\">\n",
       "  <thead>\n",
       "    <tr style=\"text-align: right;\">\n",
       "      <th></th>\n",
       "      <th>customerID</th>\n",
       "      <th>gender</th>\n",
       "      <th>SeniorCitizen</th>\n",
       "      <th>Partner</th>\n",
       "      <th>Dependents</th>\n",
       "      <th>tenure</th>\n",
       "      <th>PhoneService</th>\n",
       "      <th>MultipleLines</th>\n",
       "      <th>InternetService</th>\n",
       "      <th>OnlineSecurity</th>\n",
       "      <th>...</th>\n",
       "      <th>DeviceProtection</th>\n",
       "      <th>TechSupport</th>\n",
       "      <th>StreamingTV</th>\n",
       "      <th>StreamingMovies</th>\n",
       "      <th>Contract</th>\n",
       "      <th>PaperlessBilling</th>\n",
       "      <th>PaymentMethod</th>\n",
       "      <th>MonthlyCharges</th>\n",
       "      <th>TotalCharges</th>\n",
       "      <th>Churn</th>\n",
       "    </tr>\n",
       "  </thead>\n",
       "  <tbody>\n",
       "    <tr>\n",
       "      <th>0</th>\n",
       "      <td>7590-VHVEG</td>\n",
       "      <td>Female</td>\n",
       "      <td>0</td>\n",
       "      <td>Yes</td>\n",
       "      <td>No</td>\n",
       "      <td>1</td>\n",
       "      <td>No</td>\n",
       "      <td>No phone service</td>\n",
       "      <td>DSL</td>\n",
       "      <td>No</td>\n",
       "      <td>...</td>\n",
       "      <td>No</td>\n",
       "      <td>No</td>\n",
       "      <td>No</td>\n",
       "      <td>No</td>\n",
       "      <td>Month-to-month</td>\n",
       "      <td>Yes</td>\n",
       "      <td>Electronic check</td>\n",
       "      <td>29.85</td>\n",
       "      <td>29.85</td>\n",
       "      <td>No</td>\n",
       "    </tr>\n",
       "    <tr>\n",
       "      <th>1</th>\n",
       "      <td>5575-GNVDE</td>\n",
       "      <td>Male</td>\n",
       "      <td>0</td>\n",
       "      <td>No</td>\n",
       "      <td>No</td>\n",
       "      <td>34</td>\n",
       "      <td>Yes</td>\n",
       "      <td>No</td>\n",
       "      <td>DSL</td>\n",
       "      <td>Yes</td>\n",
       "      <td>...</td>\n",
       "      <td>Yes</td>\n",
       "      <td>No</td>\n",
       "      <td>No</td>\n",
       "      <td>No</td>\n",
       "      <td>One year</td>\n",
       "      <td>No</td>\n",
       "      <td>Mailed check</td>\n",
       "      <td>56.95</td>\n",
       "      <td>1889.5</td>\n",
       "      <td>No</td>\n",
       "    </tr>\n",
       "    <tr>\n",
       "      <th>2</th>\n",
       "      <td>3668-QPYBK</td>\n",
       "      <td>Male</td>\n",
       "      <td>0</td>\n",
       "      <td>No</td>\n",
       "      <td>No</td>\n",
       "      <td>2</td>\n",
       "      <td>Yes</td>\n",
       "      <td>No</td>\n",
       "      <td>DSL</td>\n",
       "      <td>Yes</td>\n",
       "      <td>...</td>\n",
       "      <td>No</td>\n",
       "      <td>No</td>\n",
       "      <td>No</td>\n",
       "      <td>No</td>\n",
       "      <td>Month-to-month</td>\n",
       "      <td>Yes</td>\n",
       "      <td>Mailed check</td>\n",
       "      <td>53.85</td>\n",
       "      <td>108.15</td>\n",
       "      <td>Yes</td>\n",
       "    </tr>\n",
       "    <tr>\n",
       "      <th>3</th>\n",
       "      <td>7795-CFOCW</td>\n",
       "      <td>Male</td>\n",
       "      <td>0</td>\n",
       "      <td>No</td>\n",
       "      <td>No</td>\n",
       "      <td>45</td>\n",
       "      <td>No</td>\n",
       "      <td>No phone service</td>\n",
       "      <td>DSL</td>\n",
       "      <td>Yes</td>\n",
       "      <td>...</td>\n",
       "      <td>Yes</td>\n",
       "      <td>Yes</td>\n",
       "      <td>No</td>\n",
       "      <td>No</td>\n",
       "      <td>One year</td>\n",
       "      <td>No</td>\n",
       "      <td>Bank transfer (automatic)</td>\n",
       "      <td>42.30</td>\n",
       "      <td>1840.75</td>\n",
       "      <td>No</td>\n",
       "    </tr>\n",
       "    <tr>\n",
       "      <th>4</th>\n",
       "      <td>9237-HQITU</td>\n",
       "      <td>Female</td>\n",
       "      <td>0</td>\n",
       "      <td>No</td>\n",
       "      <td>No</td>\n",
       "      <td>2</td>\n",
       "      <td>Yes</td>\n",
       "      <td>No</td>\n",
       "      <td>Fiber optic</td>\n",
       "      <td>No</td>\n",
       "      <td>...</td>\n",
       "      <td>No</td>\n",
       "      <td>No</td>\n",
       "      <td>No</td>\n",
       "      <td>No</td>\n",
       "      <td>Month-to-month</td>\n",
       "      <td>Yes</td>\n",
       "      <td>Electronic check</td>\n",
       "      <td>70.70</td>\n",
       "      <td>151.65</td>\n",
       "      <td>Yes</td>\n",
       "    </tr>\n",
       "  </tbody>\n",
       "</table>\n",
       "<p>5 rows × 21 columns</p>\n",
       "</div>"
      ],
      "text/plain": [
       "   customerID  gender  SeniorCitizen Partner Dependents  tenure PhoneService  \\\n",
       "0  7590-VHVEG  Female              0     Yes         No       1           No   \n",
       "1  5575-GNVDE    Male              0      No         No      34          Yes   \n",
       "2  3668-QPYBK    Male              0      No         No       2          Yes   \n",
       "3  7795-CFOCW    Male              0      No         No      45           No   \n",
       "4  9237-HQITU  Female              0      No         No       2          Yes   \n",
       "\n",
       "      MultipleLines InternetService OnlineSecurity  ...  DeviceProtection  \\\n",
       "0  No phone service             DSL             No  ...                No   \n",
       "1                No             DSL            Yes  ...               Yes   \n",
       "2                No             DSL            Yes  ...                No   \n",
       "3  No phone service             DSL            Yes  ...               Yes   \n",
       "4                No     Fiber optic             No  ...                No   \n",
       "\n",
       "  TechSupport StreamingTV StreamingMovies        Contract PaperlessBilling  \\\n",
       "0          No          No              No  Month-to-month              Yes   \n",
       "1          No          No              No        One year               No   \n",
       "2          No          No              No  Month-to-month              Yes   \n",
       "3         Yes          No              No        One year               No   \n",
       "4          No          No              No  Month-to-month              Yes   \n",
       "\n",
       "               PaymentMethod MonthlyCharges  TotalCharges Churn  \n",
       "0           Electronic check          29.85         29.85    No  \n",
       "1               Mailed check          56.95        1889.5    No  \n",
       "2               Mailed check          53.85        108.15   Yes  \n",
       "3  Bank transfer (automatic)          42.30       1840.75    No  \n",
       "4           Electronic check          70.70        151.65   Yes  \n",
       "\n",
       "[5 rows x 21 columns]"
      ]
     },
     "execution_count": 5,
     "metadata": {},
     "output_type": "execute_result"
    }
   ],
   "source": [
    "# checkout the first 5 rows of the data to get an impression of the data\n",
    "\n",
    "df.head()"
   ]
  },
  {
   "cell_type": "markdown",
   "metadata": {
    "_uuid": "492ffc21cf2e418e8407f5ee66518bd09761d196"
   },
   "source": [
    "### **<a id='3'>3. Clean the data</a>**"
   ]
  },
  {
   "cell_type": "markdown",
   "metadata": {
    "_uuid": "6de6c833488c58bf76c5c35395b6ed92f239d7b3"
   },
   "source": [
    "Let's clean the data before we proceed with the exploratory analysis and the modeling."
   ]
  },
  {
   "cell_type": "markdown",
   "metadata": {
    "_uuid": "4ab959a5475877f92d0844bfc4cf6cebd6702a98"
   },
   "source": [
    "**<a id='3.1.'>3.1. Drop unnecessary columns</a>**"
   ]
  },
  {
   "cell_type": "markdown",
   "metadata": {
    "_uuid": "ffd27f01107ae16f90e4db8e816ab91a1ef30dd0"
   },
   "source": [
    "Since the 'customerID' column doesn't convey useful information for the exploratory analysis or the modeling we can drop it."
   ]
  },
  {
   "cell_type": "code",
   "execution_count": 6,
   "metadata": {
    "_uuid": "0b183bad9586ddfe13d883a0c4be6f9cf22d8847"
   },
   "outputs": [],
   "source": [
    "# drop customerID\n",
    "\n",
    "df = df.drop(['customerID'], axis = 1)"
   ]
  },
  {
   "cell_type": "markdown",
   "metadata": {
    "_uuid": "634f6cf20f765b2c422b084ca7faf7ead05c2627"
   },
   "source": [
    "**<a id='3.2.'>3.2. Convert data types</a>**"
   ]
  },
  {
   "cell_type": "markdown",
   "metadata": {
    "_uuid": "bb598c54a39cad9978537f7c787b35c0691c5fe9"
   },
   "source": [
    "To be able to properly work with the 'TotalCharges' column we have to convert it to a numerical data type."
   ]
  },
  {
   "cell_type": "code",
   "execution_count": 7,
   "metadata": {
    "_uuid": "fbfa33f8f5034d89b3e0504614205d879dd95f0f"
   },
   "outputs": [],
   "source": [
    "# convert TotalCharges to float\n",
    "\n",
    "df['TotalCharges'] = pd.to_numeric(df.TotalCharges, errors='coerce')"
   ]
  },
  {
   "cell_type": "markdown",
   "metadata": {
    "_uuid": "e22577589d3873bac350ce4831bb43378590a326"
   },
   "source": [
    "**<a id='3.3.'>3.3. Check missing values</a>**"
   ]
  },
  {
   "cell_type": "markdown",
   "metadata": {
    "_uuid": "385513d5dd6bcb663562bb2d9bb258ea56c3675e"
   },
   "source": [
    "It is important to assess the amount and nature of missing values in the data to be able to conduct a concise exploratory analysis and build a good prediction model. Overall, there are only 11 missing values in the 'TotalCharges' column."
   ]
  },
  {
   "cell_type": "code",
   "execution_count": 8,
   "metadata": {
    "_uuid": "d22ad2c04d1edd73a98b860e042dbbfa9f6df273"
   },
   "outputs": [
    {
     "data": {
      "text/plain": [
       "gender               0\n",
       "SeniorCitizen        0\n",
       "Partner              0\n",
       "Dependents           0\n",
       "tenure               0\n",
       "PhoneService         0\n",
       "MultipleLines        0\n",
       "InternetService      0\n",
       "OnlineSecurity       0\n",
       "OnlineBackup         0\n",
       "DeviceProtection     0\n",
       "TechSupport          0\n",
       "StreamingTV          0\n",
       "StreamingMovies      0\n",
       "Contract             0\n",
       "PaperlessBilling     0\n",
       "PaymentMethod        0\n",
       "MonthlyCharges       0\n",
       "TotalCharges        11\n",
       "Churn                0\n",
       "dtype: int64"
      ]
     },
     "execution_count": 8,
     "metadata": {},
     "output_type": "execute_result"
    }
   ],
   "source": [
    "# checkout amount of missing values\n",
    "\n",
    "df.isna().sum()"
   ]
  },
  {
   "cell_type": "markdown",
   "metadata": {
    "_uuid": "e3efd680e0202f8bb3dda51834368d53d0fbf595"
   },
   "source": [
    "For the purpose of simplicity, we just drop the rows containing missing values for now. Once could also impute them with the median or mean, for instance, but we don't do this for now since the amount os missing values is very low in relation to the total amount of data we have."
   ]
  },
  {
   "cell_type": "code",
   "execution_count": 9,
   "metadata": {
    "_uuid": "fa1270e117e6b50c1c10271fb50c0ffc30c7da62"
   },
   "outputs": [
    {
     "data": {
      "text/plain": [
       "gender              0\n",
       "SeniorCitizen       0\n",
       "Partner             0\n",
       "Dependents          0\n",
       "tenure              0\n",
       "PhoneService        0\n",
       "MultipleLines       0\n",
       "InternetService     0\n",
       "OnlineSecurity      0\n",
       "OnlineBackup        0\n",
       "DeviceProtection    0\n",
       "TechSupport         0\n",
       "StreamingTV         0\n",
       "StreamingMovies     0\n",
       "Contract            0\n",
       "PaperlessBilling    0\n",
       "PaymentMethod       0\n",
       "MonthlyCharges      0\n",
       "TotalCharges        0\n",
       "Churn               0\n",
       "dtype: int64"
      ]
     },
     "execution_count": 9,
     "metadata": {},
     "output_type": "execute_result"
    }
   ],
   "source": [
    "# drop instances with missing values\n",
    "\n",
    "df = df.dropna()\n",
    "\n",
    "# check whether there remain missing values\n",
    "\n",
    "df.isna().sum()"
   ]
  },
  {
   "cell_type": "markdown",
   "metadata": {
    "_uuid": "8988153cb507c4156c534367005d435752f0d629"
   },
   "source": [
    "### **<a id='4'>4. Explore the data</a>**"
   ]
  },
  {
   "cell_type": "markdown",
   "metadata": {
    "_uuid": "0a8ebb6bb3f53ed8c72ca03d504f4f611bd3a9f9"
   },
   "source": [
    "Now it's time to explore the data in more detail. For this purpose we load some visualization libraries."
   ]
  },
  {
   "cell_type": "code",
   "execution_count": 10,
   "metadata": {
    "_uuid": "9c2b10a0553fc7f6d2e364ab314a1551b13cd2ba"
   },
   "outputs": [],
   "source": [
    "# import visualization libraries\n",
    "\n",
    "import matplotlib.pyplot as plt\n",
    "import seaborn as sns\n",
    "\n",
    "# settings\n",
    "\n",
    "sns.set()\n",
    "%matplotlib inline"
   ]
  },
  {
   "cell_type": "markdown",
   "metadata": {
    "_uuid": "68815971fb7526bbb7f995b8f5aabf6effc0ea3d"
   },
   "source": [
    "**<a id='4.1.'>4.1. The target</a>**"
   ]
  },
  {
   "cell_type": "markdown",
   "metadata": {
    "_uuid": "b76712a00be038400654ab21722082047691e76c"
   },
   "source": [
    "First, let's explore the target, 'Churn'. The countplot below gives us a first impression of the amount of customers who didn't churn in relation to the amount of customers who actually churned. We observe that there are much more customer who didn't churn in comparison to the amount of customer who actually churned."
   ]
  },
  {
   "cell_type": "code",
   "execution_count": 11,
   "metadata": {
    "_uuid": "cf691a7fcbffe6d4a4162e917dba921a832ebe12"
   },
   "outputs": [
    {
     "data": {
      "image/png": "[encoded data removed]",
      "text/plain": [
       "<matplotlib.figure.Figure at 0x216d9b309b0>"
      ]
     },
     "metadata": {
      "needs_background": "light"
     },
     "output_type": "display_data"
    }
   ],
   "source": [
    "# countplot of Churn\n",
    "\n",
    "sns.countplot(df['Churn'])\n",
    "plt.show()"
   ]
  },
  {
   "cell_type": "markdown",
   "metadata": {
    "_uuid": "cf75e182aef7081facba7a3d42d0531faeea74b7"
   },
   "source": [
    "More precisely, in the cleaned version of our data, there are 5163 customers who didn't churn and 1869 customers who churned. This implies that the classes of our target are imbalanced, i.e. there are much more cases of one class than of the other."
   ]
  },
  {
   "cell_type": "code",
   "execution_count": 12,
   "metadata": {
    "_uuid": "eeee684d74e59e20ce8d01e6904eff229d3d0bf0"
   },
   "outputs": [
    {
     "data": {
      "text/plain": [
       "Churn\n",
       "No     5163\n",
       "Yes    1869\n",
       "dtype: int64"
      ]
     },
     "execution_count": 12,
     "metadata": {},
     "output_type": "execute_result"
    }
   ],
   "source": [
    "# amount of customers who didn't churn and who churned\n",
    "\n",
    "df.groupby('Churn').size()"
   ]
  },
  {
   "cell_type": "markdown",
   "metadata": {
    "_uuid": "a1b0cadff1222896d57e724738a8ae756cbd4258"
   },
   "source": [
    "To express the class distribution differently, we can calculate the churn rate, i.e. the relation of customers who churned. It is about 27%."
   ]
  },
  {
   "cell_type": "code",
   "execution_count": 13,
   "metadata": {
    "_uuid": "0130389fc16e04e01ee64f41915f1bc55d9bac4a"
   },
   "outputs": [
    {
     "name": "stdout",
     "output_type": "stream",
     "text": [
      "Churn rate: 26.58%\n"
     ]
    }
   ],
   "source": [
    "# churn rate\n",
    "\n",
    "churn_rate = df.groupby('Churn').size()[1]/df.Churn.count()\n",
    "print('Churn rate: %.2f%%' % (churn_rate * 100.0))"
   ]
  },
  {
   "cell_type": "markdown",
   "metadata": {
    "_uuid": "c8672eed716be4ca4c5d7cfaf32d1ebcc0202298"
   },
   "source": [
    "**<a id='4.2.'>4.2. Categorical features</a>**"
   ]
  },
  {
   "cell_type": "markdown",
   "metadata": {
    "_uuid": "183f6b804e7d550af76a4d4d607c054b3bf6b5f9"
   },
   "source": [
    "Let's now explore the categorical features in our data. First, we create a list of categorical features and we then create a countplot for each categorical feature that shows the amount of the different values of the respective categorical features.\n",
    "\n",
    "\n",
    "We observe that \n",
    "\n",
    "- there is about an equal amount of female and male customers\n",
    "- there are much less senior citizens than there are citizens who are not senior\n",
    "- 'partner' is equally distributed\n",
    "- there are much more cases where 'Dependents' takes on the value 'No' compared to the amount of cases where 'Dependents' takes on the value 'Yes'\n",
    "- most customers have phone service included in their contracts\n",
    "- there is about an equal amount of customers who have only one line and customers who have multiple lines\n",
    "- many customers have internet service included in their contracts and more customers have fiber optic than DSL\n",
    "- of those customers who have internet service included, most don't have internet security\n",
    "- of those customers who have internet service included, more don't have online backup than have online backup\n",
    "- of those customers who have internet service included, more don't have device protection than have device protection\n",
    "- of those customers who have internet service included, more don't have tech support than have tech support\n",
    "- of those customers who have internet service included, the amount of those who have and have not streaming TV included is almost equal\n",
    "- of those customers who have internet service included, the amount of those who have and have not streaming movies included is almost equal\n",
    "- most customers have month-to-month contracts, while the amount of customers who have one-year or two-year contracts is about equal\n",
    "- there are more customers who have paperless billing\n",
    "- most customers use electronic check as their payment method, while the amount of customers who use mailed check, bank transfer or credit card is about equal"
   ]
  },
  {
   "cell_type": "code",
   "execution_count": 14,
   "metadata": {
    "_kg_hide-input": false,
    "_uuid": "e192a7acd8c00153e370d1884bc4c315f497ee6b"
   },
   "outputs": [
    {
     "data": {
      "image/png": "[encoded data removed]",
      "text/plain": [
       "<matplotlib.figure.Figure at 0x216d9e262b0>"
      ]
     },
     "metadata": {
      "needs_background": "light"
     },
     "output_type": "display_data"
    }
   ],
   "source": [
    "# countplots of all categorical features\n",
    "\n",
    "df_cat_features = df[['gender', \n",
    "                        'SeniorCitizen',\n",
    "                        'Partner', \n",
    "                        'Dependents', \n",
    "                        'PhoneService', \n",
    "                        'MultipleLines', \n",
    "                        'InternetService', \n",
    "                        'OnlineSecurity', \n",
    "                        'OnlineBackup', \n",
    "                        'DeviceProtection',\n",
    "                        'TechSupport',\n",
    "                        'StreamingTV', \n",
    "                        'StreamingMovies',\n",
    "                        'Contract',\n",
    "                        'PaperlessBilling',\n",
    "                        'PaymentMethod']].copy()\n",
    "\n",
    "plt.figure(figsize=(16,16))\n",
    "for i in range(0,16):\n",
    "        plt.subplot(4,4,i+1)\n",
    "        sns.countplot(df_cat_features.iloc[:,i])\n",
    "        plt.xticks(rotation=90)\n",
    "plt.tight_layout()\n",
    "plt.show()"
   ]
  },
  {
   "cell_type": "markdown",
   "metadata": {
    "_uuid": "3c5c910ebbdd5468a097d370367b19718eab4ec8"
   },
   "source": [
    "Next, we explore whether there are differences in regard to whether a customer churned or not across the different values of all categorical features. We keep it to the most interesting insights, though.\n",
    "\n",
    "\n",
    "We observe the following:\n",
    "\n",
    "\n",
    "- 'gender': there is about an equal amount of female and male customers who churned\n",
    "- 'SeniorCitizen': a high number of senior citizens churned\n",
    "- 'InternetService': among those customers who have fiber optic many more churned than among those who have DSL\n",
    "- 'OnlineSecurity': among those customer who have no online security many more churned than among those who have online security\n",
    "- 'OnlineBackup':  among those customer who don't have online backup many more churned than among those who have online backup\n",
    "- 'DeviceProtection':  among those customer who don't have device protection many more churned than among those who have device protection\n",
    "- 'TechSupport':  among those customer who don't have tech support many more churned than among those who have tech support\n",
    "- 'StreamingTV': the amount of customers who churned is about equally distributed across those customers who have and who don't have streaming TV\n",
    "- 'StreamingMovies': the amount of customers who churned is about equally distributed across those customers who have and who don't have streaming movies\n",
    "- 'Contract': most customers who churned have month-to-month contracts\n",
    "- 'PaperlessBilling': most customers who churned use paper billing\n",
    "- 'PaymentMethod': most customers who churned use electronic check \n",
    "\n",
    "\n",
    "From these observations one hypothesis we might conclude is that customers who are less engaged with their telco provider, i.e. have less services included in their contracts and have month-to-month contracts for instance, are more likely to churn. Not a really surprising observation, but that's what the data seem to tell us."
   ]
  },
  {
   "cell_type": "code",
   "execution_count": 15,
   "metadata": {
    "_uuid": "83a5877e0dbe834ddaa7162608babd2b3447f3cb"
   },
   "outputs": [
    {
     "data": {
      "image/png": "[encoded data removed]",
      "text/plain": [
       "<matplotlib.figure.Figure at 0x216da89f4a8>"
      ]
     },
     "metadata": {
      "needs_background": "light"
     },
     "output_type": "display_data"
    }
   ],
   "source": [
    "# countplots of all categorical features by Churn\n",
    "\n",
    "plt.figure(figsize=(16,16))\n",
    "for i in range(0,16):\n",
    "        plt.subplot(4,4,i+1)\n",
    "        sns.countplot(df_cat_features.iloc[:,i], hue=df['Churn'])\n",
    "        plt.xticks(rotation=90)\n",
    "plt.tight_layout()\n",
    "plt.show()"
   ]
  },
  {
   "cell_type": "markdown",
   "metadata": {
    "_uuid": "b9cd026cccda519534f606627d522bd7d4872399"
   },
   "source": [
    "**<a id='4.3.'>4.3. Numerical features</a>**"
   ]
  },
  {
   "cell_type": "markdown",
   "metadata": {
    "_uuid": "e2c3ef78f4cbee858020f95b5a070fe69db19a27"
   },
   "source": [
    "There are 3 numerical features in our data, namely 'tenure', 'MonthlyCharges', and 'TotalCharges'. Below are some summary statistics for these features. The average 'tenure' is about 34 years, the average 'MonthlyCharges' about 65 dollars, and the average 'TotalCharges' about 2283 dollars."
   ]
  },
  {
   "cell_type": "code",
   "execution_count": 16,
   "metadata": {
    "_uuid": "047d6f98102070a536039bf7ac09927e8ee0ab87"
   },
   "outputs": [
    {
     "data": {
      "text/html": [
       "<div>\n",
       "<style scoped>\n",
       "    .dataframe tbody tr th:only-of-type {\n",
       "        vertical-align: middle;\n",
       "    }\n",
       "\n",
       "    .dataframe tbody tr th {\n",
       "        vertical-align: top;\n",
       "    }\n",
       "\n",
       "    .dataframe thead th {\n",
       "        text-align: right;\n",
       "    }\n",
       "</style>\n",
       "<table border=\"1\" class=\"dataframe\">\n",
       "  <thead>\n",
       "    <tr style=\"text-align: right;\">\n",
       "      <th></th>\n",
       "      <th>tenure</th>\n",
       "      <th>MonthlyCharges</th>\n",
       "      <th>TotalCharges</th>\n",
       "    </tr>\n",
       "  </thead>\n",
       "  <tbody>\n",
       "    <tr>\n",
       "      <th>count</th>\n",
       "      <td>7032.000000</td>\n",
       "      <td>7032.000000</td>\n",
       "      <td>7032.000000</td>\n",
       "    </tr>\n",
       "    <tr>\n",
       "      <th>mean</th>\n",
       "      <td>32.421786</td>\n",
       "      <td>64.798208</td>\n",
       "      <td>2283.300441</td>\n",
       "    </tr>\n",
       "    <tr>\n",
       "      <th>std</th>\n",
       "      <td>24.545260</td>\n",
       "      <td>30.085974</td>\n",
       "      <td>2266.771362</td>\n",
       "    </tr>\n",
       "    <tr>\n",
       "      <th>min</th>\n",
       "      <td>1.000000</td>\n",
       "      <td>18.250000</td>\n",
       "      <td>18.800000</td>\n",
       "    </tr>\n",
       "    <tr>\n",
       "      <th>25%</th>\n",
       "      <td>9.000000</td>\n",
       "      <td>35.587500</td>\n",
       "      <td>401.450000</td>\n",
       "    </tr>\n",
       "    <tr>\n",
       "      <th>50%</th>\n",
       "      <td>29.000000</td>\n",
       "      <td>70.350000</td>\n",
       "      <td>1397.475000</td>\n",
       "    </tr>\n",
       "    <tr>\n",
       "      <th>75%</th>\n",
       "      <td>55.000000</td>\n",
       "      <td>89.862500</td>\n",
       "      <td>3794.737500</td>\n",
       "    </tr>\n",
       "    <tr>\n",
       "      <th>max</th>\n",
       "      <td>72.000000</td>\n",
       "      <td>118.750000</td>\n",
       "      <td>8684.800000</td>\n",
       "    </tr>\n",
       "  </tbody>\n",
       "</table>\n",
       "</div>"
      ],
      "text/plain": [
       "            tenure  MonthlyCharges  TotalCharges\n",
       "count  7032.000000     7032.000000   7032.000000\n",
       "mean     32.421786       64.798208   2283.300441\n",
       "std      24.545260       30.085974   2266.771362\n",
       "min       1.000000       18.250000     18.800000\n",
       "25%       9.000000       35.587500    401.450000\n",
       "50%      29.000000       70.350000   1397.475000\n",
       "75%      55.000000       89.862500   3794.737500\n",
       "max      72.000000      118.750000   8684.800000"
      ]
     },
     "execution_count": 16,
     "metadata": {},
     "output_type": "execute_result"
    }
   ],
   "source": [
    "# summary statistics for numerical features\n",
    "\n",
    "df.describe().iloc[:,1:4]"
   ]
  },
  {
   "cell_type": "markdown",
   "metadata": {
    "_uuid": "5f39b696dad6e11dc478ca3c4f4e618c953910a1"
   },
   "source": [
    "Below is a heatmap of the numerical features. One observation is that 'tenure' is correlated with 'TotalCharges', which makes sense because the longer a contract exists, the higher the total amount paid for that contract."
   ]
  },
  {
   "cell_type": "code",
   "execution_count": 17,
   "metadata": {
    "_uuid": "8abf1d98269147c3ec213adf157cb2fa5b4eb0a5"
   },
   "outputs": [
    {
     "data": {
      "image/png": "[encoded data removed]",
      "text/plain": [
       "<matplotlib.figure.Figure at 0x216d9f3b0b8>"
      ]
     },
     "metadata": {
      "needs_background": "light"
     },
     "output_type": "display_data"
    }
   ],
   "source": [
    "# heatmap of correlations of the numeric features\n",
    "\n",
    "corr = df.drop('SeniorCitizen', axis=1).corr() # SeniorCitizen is again excluded here\n",
    "sns.heatmap(corr, annot=True)\n",
    "plt.show()"
   ]
  },
  {
   "cell_type": "markdown",
   "metadata": {
    "_uuid": "dcb690c6bdf5c17a9b08457c428e4e5860f54086"
   },
   "source": [
    "Below are boxplots for 'MonthlyCharges' and 'TotalCharges'. They convey information on the distribution of the values of numerical variables, e.g. mean, quartiles and outliers. There are outliers on both ends for 'MonthlyCharges' and predominantely on the upper end for 'TotalCharges'. For more information on boxplots click [here](https://de.wikipedia.org/wiki/Box-Plot)."
   ]
  },
  {
   "cell_type": "code",
   "execution_count": 18,
   "metadata": {
    "_uuid": "672489ab23f867cff5999640bd0abd614df0a208"
   },
   "outputs": [
    {
     "data": {
      "image/png": "[encoded data removed]",
      "text/plain": [
       "<matplotlib.figure.Figure at 0x216daf0cac8>"
      ]
     },
     "metadata": {
      "needs_background": "light"
     },
     "output_type": "display_data"
    }
   ],
   "source": [
    "# boxplots of MonthlyCharges and TotalCharges\n",
    "\n",
    "plt.figure(figsize=(10,10))\n",
    "plt.subplot(2,2,1)\n",
    "sns.boxplot(df['MonthlyCharges'], orient='vertical', color='blue')\n",
    "plt.subplot(2,2,2)\n",
    "sns.boxplot(df['TotalCharges'], orient='vertical', color='orange')\n",
    "plt.show()"
   ]
  },
  {
   "cell_type": "markdown",
   "metadata": {
    "_uuid": "b989483db38438d396db8bb19319dc78ea9f888a"
   },
   "source": [
    "Below are histograms for 'MonthlyCharges' and 'TotalCharges'. They convey information on how the values of a variable are distributed in terms of frequency. We oberve that there are many 'MonthlyCharges' around 20 dollars and another large group between around 70 and 100 dollars. 'MonthlyCharges' between 20 and 70 dollars, however, seem to be less frequent.\n",
    "\n",
    "\n",
    "The frequency of large 'TotalCharges' appears to decrease as 'TotalCharges' increases, which makes sense generally as for 'TotalCharges' to be large a customer has to have their contract for quite a long time which doesn't happen very often as we will see later. \n",
    "\n",
    "\n",
    "Overall we can conclude that neither 'MonthlyCharges' nor 'TotalCharges' appear to be normally distributed."
   ]
  },
  {
   "cell_type": "code",
   "execution_count": 19,
   "metadata": {
    "_uuid": "fc36262e622b1dfb4777575da28c9bf2a315d069"
   },
   "outputs": [
    {
     "data": {
      "image/png": "[encoded data removed]",
      "text/plain": [
       "<matplotlib.figure.Figure at 0x216dafef5c0>"
      ]
     },
     "metadata": {
      "needs_background": "light"
     },
     "output_type": "display_data"
    }
   ],
   "source": [
    "# histograms of MonthlyCharges and TotalCharges\n",
    "\n",
    "plt.figure(figsize=(10,10))\n",
    "plt.subplot(2,2,1)\n",
    "sns.distplot(df['MonthlyCharges'], kde=True, color='blue')\n",
    "plt.subplot(2,2,2)\n",
    "sns.distplot(df['TotalCharges'], kde=True, color='orange')\n",
    "plt.show()"
   ]
  },
  {
   "cell_type": "markdown",
   "metadata": {
    "_uuid": "72fd4804ef96cc04dd3b0a757fbafd36481afca5"
   },
   "source": [
    "Below is a boxplot for 'tenure' that shows that there are some outliers on both ends."
   ]
  },
  {
   "cell_type": "code",
   "execution_count": 20,
   "metadata": {
    "_uuid": "078a9f902063bb726062bb09006fee65a86ede00"
   },
   "outputs": [
    {
     "data": {
      "image/png": "[encoded data removed]",
      "text/plain": [
       "<matplotlib.figure.Figure at 0x216daf3ce80>"
      ]
     },
     "metadata": {
      "needs_background": "light"
     },
     "output_type": "display_data"
    }
   ],
   "source": [
    "# boxplot of tenure\n",
    "\n",
    "sns.boxplot(df['tenure'], orient='vertical', color='red')\n",
    "plt.show()"
   ]
  },
  {
   "cell_type": "markdown",
   "metadata": {
    "_uuid": "a228da2a9442b5f487dab916ee7507a39a4876ce"
   },
   "source": [
    "Below is a histogram of 'tenure'. There appear to be many contracts that didn't last long and the amount of longer contracts appears to decrease with contract length. Interestingly, there appears to be a peak in the frequency of contracts that are around 70 years in length."
   ]
  },
  {
   "cell_type": "code",
   "execution_count": 21,
   "metadata": {
    "_uuid": "02ea3582bfbcd49c92568d18fecaff35bb79c74c"
   },
   "outputs": [
    {
     "data": {
      "image/png": "[encoded data removed]",
      "text/plain": [
       "<matplotlib.figure.Figure at 0x216db29c1d0>"
      ]
     },
     "metadata": {
      "needs_background": "light"
     },
     "output_type": "display_data"
    }
   ],
   "source": [
    "# histogram of tenure\n",
    "\n",
    "sns.distplot(df['tenure'], kde=True, color='red')\n",
    "plt.show()"
   ]
  },
  {
   "cell_type": "markdown",
   "metadata": {
    "_uuid": "da8bd4fc67dd1f3c25d2f9e6bac7eb3a77228765"
   },
   "source": [
    "Let's now consider our numeric features in relation to our target, 'Churn'. First, for each numeric feature we have, 'MonthlyCharges', 'TotalCharges', and 'tenure', we create a function that maps the values of each numeric variable to a specific group (low, lower medium, upper medium or high) based on the first, second, third, and fourth quartiles of each numeric variable, respectively. We then, in turn, apply this function to each numeric variable to create a new column for each numeric variable in our data frame that represents to which group each instance in our data belongs, respectively. Finally, we create a countplot of the groups for each numeric variable and the amount of customers who did and who didn't churn.\n",
    "\n",
    "\n",
    "*Note: The groups in the following plots are based on quartiles. If one were to create different groups, based on different quantiles for instance, the plots could look considerably different.*\n",
    "\n",
    "\n",
    "First, let's consider 'MonthlyCharges'. We observe that most customers fall into the low group, followed by the lower medium group. The upper medium group contains less customers than the high group and both contain less customers than the low and the lower medium group. Interestingly, the amount of customers who churned appears to increase with monthly charges group and slightly falls off again when the high group is reached. This implies that the higher a customer's monthly charge, the less likely he is to churn. This fits to the observation we made before: the more engaged a customer, i.e. the more services are included in the contract, the less likely he is to churn. And in turn, the more services are included in the contract, the higher the monthly charge."
   ]
  },
  {
   "cell_type": "code",
   "execution_count": 22,
   "metadata": {
    "_uuid": "c91b3f08d6dbee87d7af5f9c78aa7f602fff4eda"
   },
   "outputs": [
    {
     "data": {
      "image/png": "[encoded data removed]",
      "text/plain": [
       "<matplotlib.figure.Figure at 0x216d9f42898>"
      ]
     },
     "metadata": {
      "needs_background": "light"
     },
     "output_type": "display_data"
    }
   ],
   "source": [
    "# function to map values of tenure to different groups based on quartiles\n",
    "\n",
    "def monthly_charges_group(row):\n",
    "    if row['MonthlyCharges'] <= df.MonthlyCharges.quantile(0.25):\n",
    "        return 'low'\n",
    "    elif row['MonthlyCharges'] <= df.MonthlyCharges.quantile(0.5):\n",
    "        return 'lower medium'\n",
    "    elif row['MonthlyCharges'] <= df.MonthlyCharges.quantile(0.75):\n",
    "        return 'upper medium'\n",
    "    else:\n",
    "        return 'high'\n",
    "\n",
    "# create new column containing the group information based on quartiles \n",
    "\n",
    "df['monthly charges group'] = df.apply(monthly_charges_group, axis=1)\n",
    "\n",
    "# countplot of monthly charges groups by Churn\n",
    "\n",
    "sns.countplot(df['monthly charges group'], hue=df['Churn'], order=['low', 'lower medium', 'upper medium', 'high'])\n",
    "plt.show()"
   ]
  },
  {
   "cell_type": "markdown",
   "metadata": {
    "_uuid": "968413ed3d5e99275e3e886871ebc9ceef82f789"
   },
   "source": [
    "Second, let's consider 'TotalCharges'. Here, most customer falls into the high group. There is almost an equal amount of customers in the lower medium and upper medium groups, while the least customers are in the low group. The amount of customers who churned appears to decrease with the total charges group. This means that the higher a customer's total charges, the less likely he is to churn, i.e. a customer that has a high total charge has been with the telco provider for quite some time (and maybe also has high monthly charges, see above) and appears to be loyal."
   ]
  },
  {
   "cell_type": "code",
   "execution_count": 23,
   "metadata": {
    "_uuid": "04a3cf67df2e88e30c80eb3c5c8a5e546400b4aa"
   },
   "outputs": [
    {
     "data": {
      "image/png": "[encoded data removed]",
      "text/plain": [
       "<matplotlib.figure.Figure at 0x216d376dd30>"
      ]
     },
     "metadata": {
      "needs_background": "light"
     },
     "output_type": "display_data"
    }
   ],
   "source": [
    "# function to map values of tenure to different groups based on quartiles\n",
    "\n",
    "def total_charges_group(row):\n",
    "    if row['TotalCharges'] <= df.TotalCharges.quantile(0.25):\n",
    "        return 'low'\n",
    "    elif row['TotalCharges'] <= df.TotalCharges.quantile(0.5):\n",
    "        return 'lower medium'\n",
    "    elif row['TotalCharges'] <= df.TotalCharges.quantile(0.75):\n",
    "        return 'upper medium'\n",
    "    else:\n",
    "        return 'high'\n",
    "    \n",
    "# create new column containing the group information based on quartiles \n",
    "    \n",
    "df['total charges group'] = df.apply(total_charges_group, axis=1)\n",
    "\n",
    "# countplot of total charges groups by Churn\n",
    "\n",
    "sns.countplot(df['total charges group'], hue=df['Churn'], order=['low', 'lower medium', 'upper medium', 'high'])\n",
    "plt.show()"
   ]
  },
  {
   "cell_type": "markdown",
   "metadata": {
    "_uuid": "c8db52f0a94671f03ac492f17b8fdfc6149c070e"
   },
   "source": [
    "Lastly, we consider 'tenure'. The amount of customers per group steadily increases with the tenure group, while the amount of customers who churned decreases with the tenure group. There are only few customers who churned in the high group, but almost all customers in the low group churned. This implies that the longer a customer's tenure, the less likely he is to churn. Same argument as above: loyal customers who have been with the telco provider for quite some time tend to be less likely to churn."
   ]
  },
  {
   "cell_type": "code",
   "execution_count": 24,
   "metadata": {
    "_uuid": "1eab2a2d004e6d47ad273e70e3eadf8e213ccb67"
   },
   "outputs": [
    {
     "data": {
      "image/png": "[encoded data removed]",
      "text/plain": [
       "<matplotlib.figure.Figure at 0x216d9faeb38>"
      ]
     },
     "metadata": {
      "needs_background": "light"
     },
     "output_type": "display_data"
    }
   ],
   "source": [
    "# function to map values of tenure to different groups based on quartiles\n",
    "\n",
    "def tenure_group(row):\n",
    "    if row['tenure'] <= df.tenure.quantile(0.25):\n",
    "        return 'low'\n",
    "    elif row['tenure'] <= df.tenure.quantile(0.5):\n",
    "        return 'lower medium'\n",
    "    elif row['tenure'] <= df.tenure.quantile(0.75):\n",
    "        return 'upper medium'\n",
    "    else:\n",
    "        return 'high'\n",
    "    \n",
    "# create new column containing the group information based on quartiles \n",
    "\n",
    "df['tenure group'] = df.apply(tenure_group, axis=1)\n",
    "\n",
    "# countplot of tenure groups by Churn\n",
    "\n",
    "sns.countplot(df['tenure group'], hue=df['Churn'], order=['low', 'lower medium', 'upper medium', 'high'])\n",
    "plt.show()"
   ]
  },
  {
   "cell_type": "markdown",
   "metadata": {
    "_uuid": "929f1ebeef61259bc00da6fa21a7a19af3e560eb"
   },
   "source": [
    "Before we proceed to the modeling part, we drop the newly created group columns and check our data frame to make sure the dropping has been successful."
   ]
  },
  {
   "cell_type": "code",
   "execution_count": 25,
   "metadata": {
    "_uuid": "dd412f2082f471d0c3fe37c18e3593bd83950639"
   },
   "outputs": [
    {
     "data": {
      "text/html": [
       "<div>\n",
       "<style scoped>\n",
       "    .dataframe tbody tr th:only-of-type {\n",
       "        vertical-align: middle;\n",
       "    }\n",
       "\n",
       "    .dataframe tbody tr th {\n",
       "        vertical-align: top;\n",
       "    }\n",
       "\n",
       "    .dataframe thead th {\n",
       "        text-align: right;\n",
       "    }\n",
       "</style>\n",
       "<table border=\"1\" class=\"dataframe\">\n",
       "  <thead>\n",
       "    <tr style=\"text-align: right;\">\n",
       "      <th></th>\n",
       "      <th>gender</th>\n",
       "      <th>SeniorCitizen</th>\n",
       "      <th>Partner</th>\n",
       "      <th>Dependents</th>\n",
       "      <th>tenure</th>\n",
       "      <th>PhoneService</th>\n",
       "      <th>MultipleLines</th>\n",
       "      <th>InternetService</th>\n",
       "      <th>OnlineSecurity</th>\n",
       "      <th>OnlineBackup</th>\n",
       "      <th>DeviceProtection</th>\n",
       "      <th>TechSupport</th>\n",
       "      <th>StreamingTV</th>\n",
       "      <th>StreamingMovies</th>\n",
       "      <th>Contract</th>\n",
       "      <th>PaperlessBilling</th>\n",
       "      <th>PaymentMethod</th>\n",
       "      <th>MonthlyCharges</th>\n",
       "      <th>TotalCharges</th>\n",
       "      <th>Churn</th>\n",
       "    </tr>\n",
       "  </thead>\n",
       "  <tbody>\n",
       "    <tr>\n",
       "      <th>0</th>\n",
       "      <td>Female</td>\n",
       "      <td>0</td>\n",
       "      <td>Yes</td>\n",
       "      <td>No</td>\n",
       "      <td>1</td>\n",
       "      <td>No</td>\n",
       "      <td>No phone service</td>\n",
       "      <td>DSL</td>\n",
       "      <td>No</td>\n",
       "      <td>Yes</td>\n",
       "      <td>No</td>\n",
       "      <td>No</td>\n",
       "      <td>No</td>\n",
       "      <td>No</td>\n",
       "      <td>Month-to-month</td>\n",
       "      <td>Yes</td>\n",
       "      <td>Electronic check</td>\n",
       "      <td>29.85</td>\n",
       "      <td>29.85</td>\n",
       "      <td>No</td>\n",
       "    </tr>\n",
       "    <tr>\n",
       "      <th>1</th>\n",
       "      <td>Male</td>\n",
       "      <td>0</td>\n",
       "      <td>No</td>\n",
       "      <td>No</td>\n",
       "      <td>34</td>\n",
       "      <td>Yes</td>\n",
       "      <td>No</td>\n",
       "      <td>DSL</td>\n",
       "      <td>Yes</td>\n",
       "      <td>No</td>\n",
       "      <td>Yes</td>\n",
       "      <td>No</td>\n",
       "      <td>No</td>\n",
       "      <td>No</td>\n",
       "      <td>One year</td>\n",
       "      <td>No</td>\n",
       "      <td>Mailed check</td>\n",
       "      <td>56.95</td>\n",
       "      <td>1889.50</td>\n",
       "      <td>No</td>\n",
       "    </tr>\n",
       "    <tr>\n",
       "      <th>2</th>\n",
       "      <td>Male</td>\n",
       "      <td>0</td>\n",
       "      <td>No</td>\n",
       "      <td>No</td>\n",
       "      <td>2</td>\n",
       "      <td>Yes</td>\n",
       "      <td>No</td>\n",
       "      <td>DSL</td>\n",
       "      <td>Yes</td>\n",
       "      <td>Yes</td>\n",
       "      <td>No</td>\n",
       "      <td>No</td>\n",
       "      <td>No</td>\n",
       "      <td>No</td>\n",
       "      <td>Month-to-month</td>\n",
       "      <td>Yes</td>\n",
       "      <td>Mailed check</td>\n",
       "      <td>53.85</td>\n",
       "      <td>108.15</td>\n",
       "      <td>Yes</td>\n",
       "    </tr>\n",
       "    <tr>\n",
       "      <th>3</th>\n",
       "      <td>Male</td>\n",
       "      <td>0</td>\n",
       "      <td>No</td>\n",
       "      <td>No</td>\n",
       "      <td>45</td>\n",
       "      <td>No</td>\n",
       "      <td>No phone service</td>\n",
       "      <td>DSL</td>\n",
       "      <td>Yes</td>\n",
       "      <td>No</td>\n",
       "      <td>Yes</td>\n",
       "      <td>Yes</td>\n",
       "      <td>No</td>\n",
       "      <td>No</td>\n",
       "      <td>One year</td>\n",
       "      <td>No</td>\n",
       "      <td>Bank transfer (automatic)</td>\n",
       "      <td>42.30</td>\n",
       "      <td>1840.75</td>\n",
       "      <td>No</td>\n",
       "    </tr>\n",
       "    <tr>\n",
       "      <th>4</th>\n",
       "      <td>Female</td>\n",
       "      <td>0</td>\n",
       "      <td>No</td>\n",
       "      <td>No</td>\n",
       "      <td>2</td>\n",
       "      <td>Yes</td>\n",
       "      <td>No</td>\n",
       "      <td>Fiber optic</td>\n",
       "      <td>No</td>\n",
       "      <td>No</td>\n",
       "      <td>No</td>\n",
       "      <td>No</td>\n",
       "      <td>No</td>\n",
       "      <td>No</td>\n",
       "      <td>Month-to-month</td>\n",
       "      <td>Yes</td>\n",
       "      <td>Electronic check</td>\n",
       "      <td>70.70</td>\n",
       "      <td>151.65</td>\n",
       "      <td>Yes</td>\n",
       "    </tr>\n",
       "  </tbody>\n",
       "</table>\n",
       "</div>"
      ],
      "text/plain": [
       "   gender  SeniorCitizen Partner Dependents  tenure PhoneService  \\\n",
       "0  Female              0     Yes         No       1           No   \n",
       "1    Male              0      No         No      34          Yes   \n",
       "2    Male              0      No         No       2          Yes   \n",
       "3    Male              0      No         No      45           No   \n",
       "4  Female              0      No         No       2          Yes   \n",
       "\n",
       "      MultipleLines InternetService OnlineSecurity OnlineBackup  \\\n",
       "0  No phone service             DSL             No          Yes   \n",
       "1                No             DSL            Yes           No   \n",
       "2                No             DSL            Yes          Yes   \n",
       "3  No phone service             DSL            Yes           No   \n",
       "4                No     Fiber optic             No           No   \n",
       "\n",
       "  DeviceProtection TechSupport StreamingTV StreamingMovies        Contract  \\\n",
       "0               No          No          No              No  Month-to-month   \n",
       "1              Yes          No          No              No        One year   \n",
       "2               No          No          No              No  Month-to-month   \n",
       "3              Yes         Yes          No              No        One year   \n",
       "4               No          No          No              No  Month-to-month   \n",
       "\n",
       "  PaperlessBilling              PaymentMethod  MonthlyCharges  TotalCharges  \\\n",
       "0              Yes           Electronic check           29.85         29.85   \n",
       "1               No               Mailed check           56.95       1889.50   \n",
       "2              Yes               Mailed check           53.85        108.15   \n",
       "3               No  Bank transfer (automatic)           42.30       1840.75   \n",
       "4              Yes           Electronic check           70.70        151.65   \n",
       "\n",
       "  Churn  \n",
       "0    No  \n",
       "1    No  \n",
       "2   Yes  \n",
       "3    No  \n",
       "4   Yes  "
      ]
     },
     "execution_count": 25,
     "metadata": {},
     "output_type": "execute_result"
    }
   ],
   "source": [
    "# drop columns created for exploratory analysis and check df before proceeding to modeling\n",
    "\n",
    "df = df.drop(['tenure group', 'monthly charges group', 'total charges group'], axis=1)\n",
    "df.head()"
   ]
  },
  {
   "cell_type": "markdown",
   "metadata": {
    "_uuid": "723ae19bbd74ec5ebdb8f72a54023781c645edec"
   },
   "source": [
    " ### **<a id='5'>5. Modeling</a>**"
   ]
  },
  {
   "cell_type": "markdown",
   "metadata": {
    "_uuid": "1f8c25e568b53ee3281b42a452618116bad75272"
   },
   "source": [
    "**<a id='5.1.'>5.1. Preprocessing</a>**"
   ]
  },
  {
   "cell_type": "markdown",
   "metadata": {
    "_uuid": "8f75b840365602bccd68b27962d75dd84f31c439"
   },
   "source": [
    "Before we can start building our prediction model, we need to do some preprocessing. First, we create a copy of our original data frame to encode the categorical features and our target', so that our model can process them later on."
   ]
  },
  {
   "cell_type": "code",
   "execution_count": 26,
   "metadata": {
    "_uuid": "39792bfa8ed2d0f94a2da54a276c9440f1299b1d"
   },
   "outputs": [],
   "source": [
    "# copy df to create df_enc to encode categorical features and the target\n",
    "\n",
    "df_enc = df.copy()"
   ]
  },
  {
   "cell_type": "markdown",
   "metadata": {
    "_uuid": "eeae529a17ce8b2307452e96f426accaf939239e"
   },
   "source": [
    "Then we encode our target, 'Churn', using a binary label encoder."
   ]
  },
  {
   "cell_type": "code",
   "execution_count": 27,
   "metadata": {
    "_uuid": "f966e65163502d4804259b734c12b77f56afda8c"
   },
   "outputs": [],
   "source": [
    "# encode target\n",
    "\n",
    "from sklearn.preprocessing import LabelEncoder\n",
    "\n",
    "le = LabelEncoder()\n",
    "le.fit(df_enc['Churn'])\n",
    "df_enc['Churn'] = le.transform(df_enc['Churn'])"
   ]
  },
  {
   "cell_type": "markdown",
   "metadata": {
    "_uuid": "d3cb8e81f5df1cb86f97045bf76916502e08afac"
   },
   "source": [
    "Next, we encode our categorical features using one hot encoding."
   ]
  },
  {
   "cell_type": "code",
   "execution_count": 28,
   "metadata": {
    "_uuid": "1372dcb3905d29fa4b28264c1141bf5a037e767f"
   },
   "outputs": [],
   "source": [
    "# encode categorical features\n",
    "\n",
    "categorical_features = ['gender', \n",
    "                        'SeniorCitizen',\n",
    "                        'Partner', \n",
    "                        'Dependents', \n",
    "                        'PhoneService', \n",
    "                        'MultipleLines', \n",
    "                        'InternetService', \n",
    "                        'OnlineSecurity', \n",
    "                        'OnlineBackup', \n",
    "                        'DeviceProtection',\n",
    "                        'TechSupport',\n",
    "                        'StreamingTV', \n",
    "                        'StreamingMovies',\n",
    "                        'Contract',\n",
    "                        'PaperlessBilling',\n",
    "                        'PaymentMethod']\n",
    "\n",
    "df_enc = pd.get_dummies(df_enc, columns=categorical_features, drop_first=True)"
   ]
  },
  {
   "cell_type": "markdown",
   "metadata": {
    "_uuid": "21e70daaf2f4e6fac34313f5cb62648a74603260"
   },
   "source": [
    "Then we split our features and our target into different objects called X for the features and y for the target."
   ]
  },
  {
   "cell_type": "code",
   "execution_count": 29,
   "metadata": {
    "_uuid": "0c4699d8fca951c82f41ba11f722275833529fee"
   },
   "outputs": [],
   "source": [
    "# split encoded categorical features and encoded target into X and y\n",
    "\n",
    "X = df_enc.drop('Churn', axis=1)\n",
    "y = df_enc['Churn']"
   ]
  },
  {
   "cell_type": "markdown",
   "metadata": {
    "_uuid": "eeb84d101cc42a6591f910fb5563e207cee1cde5"
   },
   "source": [
    "Now we split X and y in training and test sets. Our model will be trained on the training set and we will make predictions on the test set."
   ]
  },
  {
   "cell_type": "code",
   "execution_count": 30,
   "metadata": {
    "_uuid": "db3be8c8d9994be1a204b8ff3a10a5c69c9fd9d3"
   },
   "outputs": [],
   "source": [
    "# split X and y in training and test sets\n",
    "\n",
    "from sklearn.model_selection import train_test_split\n",
    "\n",
    "X_train, X_test, y_train, y_test = train_test_split(X, y, test_size=0.33, random_state=42)"
   ]
  },
  {
   "cell_type": "markdown",
   "metadata": {
    "_uuid": "f8daedcf94c74e4a081a877bed0173e7468c625e"
   },
   "source": [
    "Since the numerical features in our data all have different scales it might make sense to transform them in a way that they all are on the same scale. First, we create copies of X_train and X_test and second, we use a standard scaler to scale the numerical features so that they have a mean of zero and a standard deviation of one."
   ]
  },
  {
   "cell_type": "code",
   "execution_count": 31,
   "metadata": {
    "_uuid": "282e96a6c7bc0d48ed470f1169cca306fe24e2ff"
   },
   "outputs": [],
   "source": [
    "# copy numerical features from X_train and X_test to create X_train_scaled and X_test_scaled for scaled numerical features\n",
    "\n",
    "X_train_scaled = X_train.copy()\n",
    "X_test_scaled = X_test.copy()"
   ]
  },
  {
   "cell_type": "code",
   "execution_count": 32,
   "metadata": {
    "_uuid": "a8674f02156ae404a52e389f329c24c631a4437c",
    "scrolled": true
   },
   "outputs": [],
   "source": [
    "# scale numerical features\n",
    "\n",
    "from sklearn.preprocessing import StandardScaler\n",
    "\n",
    "scaler = StandardScaler().fit(X_train_scaled[['tenure', 'MonthlyCharges', 'TotalCharges']])\n",
    "X_train_scaled[['tenure', 'MonthlyCharges', 'TotalCharges']] = scaler.transform(X_train_scaled[['tenure', 'MonthlyCharges', 'TotalCharges']])\n",
    "X_test_scaled[['tenure', 'MonthlyCharges', 'TotalCharges']] = scaler.transform(X_test_scaled[['tenure', 'MonthlyCharges', 'TotalCharges']])"
   ]
  },
  {
   "cell_type": "markdown",
   "metadata": {
    "_uuid": "da756c2bec2cbc2039b5a26e261aad64037dc251"
   },
   "source": [
    "Let's have a look at our training and test features after we have encoded the categorical features and scaled the numerical features."
   ]
  },
  {
   "cell_type": "code",
   "execution_count": 33,
   "metadata": {
    "_uuid": "d5a3be39fd87122293132c4a7283e17053a5a84a"
   },
   "outputs": [
    {
     "data": {
      "text/html": [
       "<div>\n",
       "<style scoped>\n",
       "    .dataframe tbody tr th:only-of-type {\n",
       "        vertical-align: middle;\n",
       "    }\n",
       "\n",
       "    .dataframe tbody tr th {\n",
       "        vertical-align: top;\n",
       "    }\n",
       "\n",
       "    .dataframe thead th {\n",
       "        text-align: right;\n",
       "    }\n",
       "</style>\n",
       "<table border=\"1\" class=\"dataframe\">\n",
       "  <thead>\n",
       "    <tr style=\"text-align: right;\">\n",
       "      <th></th>\n",
       "      <th>tenure</th>\n",
       "      <th>MonthlyCharges</th>\n",
       "      <th>TotalCharges</th>\n",
       "      <th>gender_Male</th>\n",
       "      <th>SeniorCitizen_1</th>\n",
       "      <th>Partner_Yes</th>\n",
       "      <th>Dependents_Yes</th>\n",
       "      <th>PhoneService_Yes</th>\n",
       "      <th>MultipleLines_No phone service</th>\n",
       "      <th>MultipleLines_Yes</th>\n",
       "      <th>...</th>\n",
       "      <th>StreamingTV_No internet service</th>\n",
       "      <th>StreamingTV_Yes</th>\n",
       "      <th>StreamingMovies_No internet service</th>\n",
       "      <th>StreamingMovies_Yes</th>\n",
       "      <th>Contract_One year</th>\n",
       "      <th>Contract_Two year</th>\n",
       "      <th>PaperlessBilling_Yes</th>\n",
       "      <th>PaymentMethod_Credit card (automatic)</th>\n",
       "      <th>PaymentMethod_Electronic check</th>\n",
       "      <th>PaymentMethod_Mailed check</th>\n",
       "    </tr>\n",
       "  </thead>\n",
       "  <tbody>\n",
       "    <tr>\n",
       "      <th>5767</th>\n",
       "      <td>1.325456</td>\n",
       "      <td>-0.161316</td>\n",
       "      <td>0.679395</td>\n",
       "      <td>0</td>\n",
       "      <td>0</td>\n",
       "      <td>1</td>\n",
       "      <td>0</td>\n",
       "      <td>1</td>\n",
       "      <td>0</td>\n",
       "      <td>0</td>\n",
       "      <td>...</td>\n",
       "      <td>0</td>\n",
       "      <td>1</td>\n",
       "      <td>0</td>\n",
       "      <td>0</td>\n",
       "      <td>0</td>\n",
       "      <td>1</td>\n",
       "      <td>1</td>\n",
       "      <td>1</td>\n",
       "      <td>0</td>\n",
       "      <td>0</td>\n",
       "    </tr>\n",
       "    <tr>\n",
       "      <th>5361</th>\n",
       "      <td>-1.152524</td>\n",
       "      <td>-1.469930</td>\n",
       "      <td>-0.967341</td>\n",
       "      <td>0</td>\n",
       "      <td>0</td>\n",
       "      <td>0</td>\n",
       "      <td>1</td>\n",
       "      <td>1</td>\n",
       "      <td>0</td>\n",
       "      <td>0</td>\n",
       "      <td>...</td>\n",
       "      <td>1</td>\n",
       "      <td>0</td>\n",
       "      <td>1</td>\n",
       "      <td>0</td>\n",
       "      <td>1</td>\n",
       "      <td>0</td>\n",
       "      <td>1</td>\n",
       "      <td>0</td>\n",
       "      <td>0</td>\n",
       "      <td>1</td>\n",
       "    </tr>\n",
       "    <tr>\n",
       "      <th>5745</th>\n",
       "      <td>1.162966</td>\n",
       "      <td>-1.343719</td>\n",
       "      <td>-0.365667</td>\n",
       "      <td>0</td>\n",
       "      <td>0</td>\n",
       "      <td>1</td>\n",
       "      <td>1</td>\n",
       "      <td>1</td>\n",
       "      <td>0</td>\n",
       "      <td>1</td>\n",
       "      <td>...</td>\n",
       "      <td>1</td>\n",
       "      <td>0</td>\n",
       "      <td>1</td>\n",
       "      <td>0</td>\n",
       "      <td>0</td>\n",
       "      <td>1</td>\n",
       "      <td>1</td>\n",
       "      <td>0</td>\n",
       "      <td>0</td>\n",
       "      <td>1</td>\n",
       "    </tr>\n",
       "    <tr>\n",
       "      <th>6065</th>\n",
       "      <td>1.081721</td>\n",
       "      <td>-1.317148</td>\n",
       "      <td>-0.336787</td>\n",
       "      <td>1</td>\n",
       "      <td>0</td>\n",
       "      <td>0</td>\n",
       "      <td>0</td>\n",
       "      <td>1</td>\n",
       "      <td>0</td>\n",
       "      <td>1</td>\n",
       "      <td>...</td>\n",
       "      <td>1</td>\n",
       "      <td>0</td>\n",
       "      <td>1</td>\n",
       "      <td>0</td>\n",
       "      <td>0</td>\n",
       "      <td>1</td>\n",
       "      <td>0</td>\n",
       "      <td>0</td>\n",
       "      <td>0</td>\n",
       "      <td>1</td>\n",
       "    </tr>\n",
       "    <tr>\n",
       "      <th>229</th>\n",
       "      <td>0.594249</td>\n",
       "      <td>0.685630</td>\n",
       "      <td>0.811653</td>\n",
       "      <td>0</td>\n",
       "      <td>0</td>\n",
       "      <td>1</td>\n",
       "      <td>1</td>\n",
       "      <td>1</td>\n",
       "      <td>0</td>\n",
       "      <td>1</td>\n",
       "      <td>...</td>\n",
       "      <td>0</td>\n",
       "      <td>1</td>\n",
       "      <td>0</td>\n",
       "      <td>1</td>\n",
       "      <td>0</td>\n",
       "      <td>1</td>\n",
       "      <td>1</td>\n",
       "      <td>1</td>\n",
       "      <td>0</td>\n",
       "      <td>0</td>\n",
       "    </tr>\n",
       "  </tbody>\n",
       "</table>\n",
       "<p>5 rows × 30 columns</p>\n",
       "</div>"
      ],
      "text/plain": [
       "        tenure  MonthlyCharges  TotalCharges  gender_Male  SeniorCitizen_1  \\\n",
       "5767  1.325456       -0.161316      0.679395            0                0   \n",
       "5361 -1.152524       -1.469930     -0.967341            0                0   \n",
       "5745  1.162966       -1.343719     -0.365667            0                0   \n",
       "6065  1.081721       -1.317148     -0.336787            1                0   \n",
       "229   0.594249        0.685630      0.811653            0                0   \n",
       "\n",
       "      Partner_Yes  Dependents_Yes  PhoneService_Yes  \\\n",
       "5767            1               0                 1   \n",
       "5361            0               1                 1   \n",
       "5745            1               1                 1   \n",
       "6065            0               0                 1   \n",
       "229             1               1                 1   \n",
       "\n",
       "      MultipleLines_No phone service  MultipleLines_Yes  \\\n",
       "5767                               0                  0   \n",
       "5361                               0                  0   \n",
       "5745                               0                  1   \n",
       "6065                               0                  1   \n",
       "229                                0                  1   \n",
       "\n",
       "                 ...              StreamingTV_No internet service  \\\n",
       "5767             ...                                            0   \n",
       "5361             ...                                            1   \n",
       "5745             ...                                            1   \n",
       "6065             ...                                            1   \n",
       "229              ...                                            0   \n",
       "\n",
       "      StreamingTV_Yes  StreamingMovies_No internet service  \\\n",
       "5767                1                                    0   \n",
       "5361                0                                    1   \n",
       "5745                0                                    1   \n",
       "6065                0                                    1   \n",
       "229                 1                                    0   \n",
       "\n",
       "      StreamingMovies_Yes  Contract_One year  Contract_Two year  \\\n",
       "5767                    0                  0                  1   \n",
       "5361                    0                  1                  0   \n",
       "5745                    0                  0                  1   \n",
       "6065                    0                  0                  1   \n",
       "229                     1                  0                  1   \n",
       "\n",
       "      PaperlessBilling_Yes  PaymentMethod_Credit card (automatic)  \\\n",
       "5767                     1                                      1   \n",
       "5361                     1                                      0   \n",
       "5745                     1                                      0   \n",
       "6065                     0                                      0   \n",
       "229                      1                                      1   \n",
       "\n",
       "      PaymentMethod_Electronic check  PaymentMethod_Mailed check  \n",
       "5767                               0                           0  \n",
       "5361                               0                           1  \n",
       "5745                               0                           1  \n",
       "6065                               0                           1  \n",
       "229                                0                           0  \n",
       "\n",
       "[5 rows x 30 columns]"
      ]
     },
     "execution_count": 33,
     "metadata": {},
     "output_type": "execute_result"
    }
   ],
   "source": [
    "# encoded and scaled train features\n",
    "\n",
    "X_train_scaled.head()"
   ]
  },
  {
   "cell_type": "code",
   "execution_count": 34,
   "metadata": {
    "_uuid": "2689b2ff4d3aa35d3d659ccedea38da43ab6b7a6"
   },
   "outputs": [
    {
     "data": {
      "text/html": [
       "<div>\n",
       "<style scoped>\n",
       "    .dataframe tbody tr th:only-of-type {\n",
       "        vertical-align: middle;\n",
       "    }\n",
       "\n",
       "    .dataframe tbody tr th {\n",
       "        vertical-align: top;\n",
       "    }\n",
       "\n",
       "    .dataframe thead th {\n",
       "        text-align: right;\n",
       "    }\n",
       "</style>\n",
       "<table border=\"1\" class=\"dataframe\">\n",
       "  <thead>\n",
       "    <tr style=\"text-align: right;\">\n",
       "      <th></th>\n",
       "      <th>tenure</th>\n",
       "      <th>MonthlyCharges</th>\n",
       "      <th>TotalCharges</th>\n",
       "      <th>gender_Male</th>\n",
       "      <th>SeniorCitizen_1</th>\n",
       "      <th>Partner_Yes</th>\n",
       "      <th>Dependents_Yes</th>\n",
       "      <th>PhoneService_Yes</th>\n",
       "      <th>MultipleLines_No phone service</th>\n",
       "      <th>MultipleLines_Yes</th>\n",
       "      <th>...</th>\n",
       "      <th>StreamingTV_No internet service</th>\n",
       "      <th>StreamingTV_Yes</th>\n",
       "      <th>StreamingMovies_No internet service</th>\n",
       "      <th>StreamingMovies_Yes</th>\n",
       "      <th>Contract_One year</th>\n",
       "      <th>Contract_Two year</th>\n",
       "      <th>PaperlessBilling_Yes</th>\n",
       "      <th>PaymentMethod_Credit card (automatic)</th>\n",
       "      <th>PaymentMethod_Electronic check</th>\n",
       "      <th>PaymentMethod_Mailed check</th>\n",
       "    </tr>\n",
       "  </thead>\n",
       "  <tbody>\n",
       "    <tr>\n",
       "      <th>2481</th>\n",
       "      <td>1.162966</td>\n",
       "      <td>-1.317148</td>\n",
       "      <td>-0.340657</td>\n",
       "      <td>1</td>\n",
       "      <td>1</td>\n",
       "      <td>1</td>\n",
       "      <td>0</td>\n",
       "      <td>1</td>\n",
       "      <td>0</td>\n",
       "      <td>1</td>\n",
       "      <td>...</td>\n",
       "      <td>1</td>\n",
       "      <td>0</td>\n",
       "      <td>1</td>\n",
       "      <td>0</td>\n",
       "      <td>0</td>\n",
       "      <td>1</td>\n",
       "      <td>0</td>\n",
       "      <td>0</td>\n",
       "      <td>0</td>\n",
       "      <td>0</td>\n",
       "    </tr>\n",
       "    <tr>\n",
       "      <th>6784</th>\n",
       "      <td>-0.543184</td>\n",
       "      <td>-1.327112</td>\n",
       "      <td>-0.798795</td>\n",
       "      <td>0</td>\n",
       "      <td>0</td>\n",
       "      <td>0</td>\n",
       "      <td>0</td>\n",
       "      <td>1</td>\n",
       "      <td>0</td>\n",
       "      <td>1</td>\n",
       "      <td>...</td>\n",
       "      <td>1</td>\n",
       "      <td>0</td>\n",
       "      <td>1</td>\n",
       "      <td>0</td>\n",
       "      <td>0</td>\n",
       "      <td>0</td>\n",
       "      <td>0</td>\n",
       "      <td>0</td>\n",
       "      <td>0</td>\n",
       "      <td>0</td>\n",
       "    </tr>\n",
       "    <tr>\n",
       "      <th>6125</th>\n",
       "      <td>-0.786920</td>\n",
       "      <td>1.248600</td>\n",
       "      <td>-0.403790</td>\n",
       "      <td>1</td>\n",
       "      <td>0</td>\n",
       "      <td>1</td>\n",
       "      <td>0</td>\n",
       "      <td>1</td>\n",
       "      <td>0</td>\n",
       "      <td>1</td>\n",
       "      <td>...</td>\n",
       "      <td>0</td>\n",
       "      <td>1</td>\n",
       "      <td>0</td>\n",
       "      <td>1</td>\n",
       "      <td>0</td>\n",
       "      <td>0</td>\n",
       "      <td>1</td>\n",
       "      <td>1</td>\n",
       "      <td>0</td>\n",
       "      <td>0</td>\n",
       "    </tr>\n",
       "    <tr>\n",
       "      <th>3052</th>\n",
       "      <td>0.188023</td>\n",
       "      <td>-0.319080</td>\n",
       "      <td>-0.106701</td>\n",
       "      <td>1</td>\n",
       "      <td>0</td>\n",
       "      <td>1</td>\n",
       "      <td>0</td>\n",
       "      <td>1</td>\n",
       "      <td>0</td>\n",
       "      <td>1</td>\n",
       "      <td>...</td>\n",
       "      <td>0</td>\n",
       "      <td>0</td>\n",
       "      <td>0</td>\n",
       "      <td>0</td>\n",
       "      <td>0</td>\n",
       "      <td>0</td>\n",
       "      <td>1</td>\n",
       "      <td>0</td>\n",
       "      <td>0</td>\n",
       "      <td>1</td>\n",
       "    </tr>\n",
       "    <tr>\n",
       "      <th>4099</th>\n",
       "      <td>-1.071278</td>\n",
       "      <td>-1.169348</td>\n",
       "      <td>-0.933419</td>\n",
       "      <td>0</td>\n",
       "      <td>0</td>\n",
       "      <td>0</td>\n",
       "      <td>0</td>\n",
       "      <td>0</td>\n",
       "      <td>1</td>\n",
       "      <td>0</td>\n",
       "      <td>...</td>\n",
       "      <td>0</td>\n",
       "      <td>0</td>\n",
       "      <td>0</td>\n",
       "      <td>0</td>\n",
       "      <td>0</td>\n",
       "      <td>0</td>\n",
       "      <td>0</td>\n",
       "      <td>0</td>\n",
       "      <td>0</td>\n",
       "      <td>0</td>\n",
       "    </tr>\n",
       "  </tbody>\n",
       "</table>\n",
       "<p>5 rows × 30 columns</p>\n",
       "</div>"
      ],
      "text/plain": [
       "        tenure  MonthlyCharges  TotalCharges  gender_Male  SeniorCitizen_1  \\\n",
       "2481  1.162966       -1.317148     -0.340657            1                1   \n",
       "6784 -0.543184       -1.327112     -0.798795            0                0   \n",
       "6125 -0.786920        1.248600     -0.403790            1                0   \n",
       "3052  0.188023       -0.319080     -0.106701            1                0   \n",
       "4099 -1.071278       -1.169348     -0.933419            0                0   \n",
       "\n",
       "      Partner_Yes  Dependents_Yes  PhoneService_Yes  \\\n",
       "2481            1               0                 1   \n",
       "6784            0               0                 1   \n",
       "6125            1               0                 1   \n",
       "3052            1               0                 1   \n",
       "4099            0               0                 0   \n",
       "\n",
       "      MultipleLines_No phone service  MultipleLines_Yes  \\\n",
       "2481                               0                  1   \n",
       "6784                               0                  1   \n",
       "6125                               0                  1   \n",
       "3052                               0                  1   \n",
       "4099                               1                  0   \n",
       "\n",
       "                 ...              StreamingTV_No internet service  \\\n",
       "2481             ...                                            1   \n",
       "6784             ...                                            1   \n",
       "6125             ...                                            0   \n",
       "3052             ...                                            0   \n",
       "4099             ...                                            0   \n",
       "\n",
       "      StreamingTV_Yes  StreamingMovies_No internet service  \\\n",
       "2481                0                                    1   \n",
       "6784                0                                    1   \n",
       "6125                1                                    0   \n",
       "3052                0                                    0   \n",
       "4099                0                                    0   \n",
       "\n",
       "      StreamingMovies_Yes  Contract_One year  Contract_Two year  \\\n",
       "2481                    0                  0                  1   \n",
       "6784                    0                  0                  0   \n",
       "6125                    1                  0                  0   \n",
       "3052                    0                  0                  0   \n",
       "4099                    0                  0                  0   \n",
       "\n",
       "      PaperlessBilling_Yes  PaymentMethod_Credit card (automatic)  \\\n",
       "2481                     0                                      0   \n",
       "6784                     0                                      0   \n",
       "6125                     1                                      1   \n",
       "3052                     1                                      0   \n",
       "4099                     0                                      0   \n",
       "\n",
       "      PaymentMethod_Electronic check  PaymentMethod_Mailed check  \n",
       "2481                               0                           0  \n",
       "6784                               0                           0  \n",
       "6125                               0                           0  \n",
       "3052                               0                           1  \n",
       "4099                               0                           0  \n",
       "\n",
       "[5 rows x 30 columns]"
      ]
     },
     "execution_count": 34,
     "metadata": {},
     "output_type": "execute_result"
    }
   ],
   "source": [
    "# encoded and scaled test features\n",
    "\n",
    "X_test_scaled.head()"
   ]
  },
  {
   "cell_type": "markdown",
   "metadata": {
    "_uuid": "d256c95351d7038f1bd89c847522aba63e3bb56e"
   },
   "source": [
    "**<a id='5.2.'>5.2. Logistic Regression</a>**"
   ]
  },
  {
   "cell_type": "markdown",
   "metadata": {
    "_uuid": "c8f16ae0c978168940c0f2a9f73e5827509fdc8f"
   },
   "source": [
    "Now it's time to build our prediction model. We will use a Logistic Regression since it is a linear model that can be explained more easily to executives rather than more complicated models like Random Forest, XGBoost or Neural Nets.\n",
    "\n",
    "First, we create an instance of the model, then we fit it to our features and target from the training set and lastly, we make predictions using the features in our test set."
   ]
  },
  {
   "cell_type": "code",
   "execution_count": 35,
   "metadata": {
    "_uuid": "3ef78f8f213e19be57ca1b2f47b401f4a2c77783"
   },
   "outputs": [],
   "source": [
    "from sklearn.linear_model import LogisticRegression\n",
    "\n",
    "# fit the model to the training set\n",
    "\n",
    "LR = LogisticRegression()\n",
    "LR.fit(X_train_scaled, y_train)\n",
    "\n",
    "# make predictions on the test set\n",
    "\n",
    "y_pred = LR.predict(X_test_scaled)"
   ]
  },
  {
   "cell_type": "markdown",
   "metadata": {
    "_uuid": "8daeb9a66ebbdf42fc4d38199ba383fc66d48bf7"
   },
   "source": [
    "Then we evaluate our model using different metrics. \n",
    "\n",
    "- The accuracy of our model is 80.05%.\n",
    "- The AUC is 0.72, which is another measure of model performance - the bigger the better (max=1). More information on AUC can be found [here](https://de.wikipedia.org/wiki/Area_under_the_curve).\n",
    "\n",
    "\n",
    "Another useful tool to assess the performance of a model is the confusion matrix. The confusion matrix below shows how many predictions were correct and how many were incorrect.\n",
    "\n",
    "- **True negatives**: In the upper left are the 'true negatives', i.e. the model predicted 'no churn' and the customer actually didn't churn. (1528)\n",
    "- **False negatives**: In the lower left are the 'false negatives', i.e. the model predicted 'no churn', but the customer actually churned. (280)\n",
    "- **True positives**: In the lower right are the 'true positives', i.e. the model predicted 'churn' and the customer actually churned. (330)\n",
    "- **False positives**: In the upper right are the 'false positives', i.e. the model predicted 'churn', but the customer actually didn't churn. (183)\n",
    "\n",
    "\n",
    "Simply looking at accuracy might not be sufficient to correctly assess a model's performance. Therefore, we calculate additional metrics called precision and recall.\n",
    "\n",
    "\n",
    "**Precision**: divide TP by the sum of all positive predictions, i.e. TP plus FP - in different words, how many customers did we correctly classify as churners in relation to how many customers we correctly classified overall\n",
    "\n",
    "\n",
    "- *precision = TP / (TP + FP) = 330 / ( 330 + 183) = 0.64*\n",
    "\n",
    "\n",
    "**Recall**: divide TP by the sum of correct positive predictions and false negative predictions, i.e. TP plus FN - in other words, how many customers did we classify as churners in relation to how many customers acctually churned\n",
    "\n",
    "\n",
    "- *recall = TP / (TP + FN) = 330 / (330 + 280) = 0.54*\n",
    "\n",
    "\n",
    "To jointly assess precision and recall we can calculate the **f1-score**.\n",
    "\n",
    "\n",
    "- *f1-score = 2 * (precision * recall) / (precision + recall) = 2 * (0.64 * 0.54) / (0.64 + 0.54) = 0.58*\n",
    "\n",
    "\n",
    "\n",
    "Precision, recall and the f1-score can all be found in the classification report below.\n",
    "\n",
    "\n",
    "\n",
    "For more information on accuracy, precision, recall and the f1-score we recommend reading [this](https://towardsdatascience.com/beyond-accuracy-precision-and-recall-3da06bea9f6c) article."
   ]
  },
  {
   "cell_type": "code",
   "execution_count": 36,
   "metadata": {
    "_uuid": "4c16e1e5b6823a53724cb92236f320e2d17e2762",
    "scrolled": false
   },
   "outputs": [
    {
     "name": "stdout",
     "output_type": "stream",
     "text": [
      "Accuracy: 80.05%\n",
      "\n",
      "\n",
      "AUC: 0.72\n",
      "\n",
      "\n",
      "Confusion matrix\n",
      "[[1528  183]\n",
      " [ 280  330]]\n",
      "\n",
      "\n",
      "Classification report\n",
      "             precision    recall  f1-score   support\n",
      "\n",
      "          0       0.85      0.89      0.87      1711\n",
      "          1       0.64      0.54      0.59       610\n",
      "\n",
      "avg / total       0.79      0.80      0.79      2321\n",
      "\n"
     ]
    }
   ],
   "source": [
    "# evaluate model\n",
    "\n",
    "from sklearn.metrics import accuracy_score,roc_curve,auc,confusion_matrix,classification_report\n",
    "\n",
    "accuracy = accuracy_score(y_test, y_pred)\n",
    "print('Accuracy: %.2f%%' % (accuracy * 100.0))\n",
    "print('\\n')\n",
    "fpr, tpr, thresholds = roc_curve(y_test, y_pred)\n",
    "print('AUC: %.2f' % auc(fpr, tpr))\n",
    "print('\\n')\n",
    "print('Confusion matrix')\n",
    "print(confusion_matrix(y_test, y_pred))\n",
    "print('\\n')\n",
    "print('Classification report')\n",
    "print(classification_report(y_test, y_pred))"
   ]
  },
  {
   "cell_type": "markdown",
   "metadata": {
    "_uuid": "4250f9a8f8db951a06e16bbf0decf3111bb1d151"
   },
   "source": [
    "**<a id='5.3.'>5.3. Cross validation</a>**"
   ]
  },
  {
   "cell_type": "markdown",
   "metadata": {
    "_uuid": "8eb16a56bbbf2abb809a37dcef14eda52668195d"
   },
   "source": [
    "We previously split our data in training and test sets to avoid overfitting. Overfitting occurs when a model has too strong of a fit to your training data. It performs well on the training data, but it doesn't perform well when given new data that it hasn't seen so far. More information on overfitting can be found [here](https://en.wikipedia.org/wiki/Overfitting). Overfitting is also important in the context of the bias variance trad-off. To learn more about the bias variance trade-off check out [this](http://scott.fortmann-roe.com/docs/BiasVariance.html) article.\n",
    "\n",
    "\n",
    "An even better approach to avoid overfitting than just splitting the data in training and test sets is to use cross validation to more rigorously avoid overfitting. Cross validation is a technique where the training and test data is randomly partitioned into a number of k folds, where usually k=10. We then run the model on all folds and average the evaluation metric over all runs. More information on cross validation can be found [here](https://en.wikipedia.org/wiki/Cross-validation_%28statistics%29).\n",
    "\n",
    "Below we perform a 10-fold cross validation and observe that each run yields a different accuracy ranging from 74% to 84%. The average accuracy over all runs is 80%, which is similar to the accuracy we observed before."
   ]
  },
  {
   "cell_type": "code",
   "execution_count": 37,
   "metadata": {
    "_uuid": "369d301b80c27e9b17f0b8eab1e69365592bf64c"
   },
   "outputs": [
    {
     "name": "stdout",
     "output_type": "stream",
     "text": [
      "Accuracy of all 10 runs:  [0.80084746 0.80467091 0.80042463 0.74097665 0.83227176 0.78556263\n",
      " 0.79193206 0.80679406 0.80042463 0.83864119]\n",
      "Mean: 0.80%\n"
     ]
    }
   ],
   "source": [
    "# 10-fold cross validation\n",
    "\n",
    "from sklearn.model_selection import cross_val_score,KFold\n",
    "\n",
    "cv = KFold(n_splits=10, random_state=42)\n",
    "cv_results = cross_val_score(LR, X_train_scaled, y_train, cv=cv, scoring='accuracy')\n",
    "\n",
    "print('Accuracy of all 10 runs: ', cv_results)\n",
    "print('Mean: %.2f%%' % cv_results.mean())"
   ]
  },
  {
   "cell_type": "markdown",
   "metadata": {
    "_uuid": "368fca29df059c1a3ddd46c94ea150c814ad0530"
   },
   "source": [
    "**<a id='5.4.'>5.4. Parameter tuning</a>**"
   ]
  },
  {
   "cell_type": "markdown",
   "metadata": {
    "_uuid": "d50dbfb9ae6daa991a1a0a138f649b197241dc87"
   },
   "source": [
    "The performance of our model is not too bad, but we could try to improve accuracy by tuning the hyperparameters of our model. One parameter we could try to optimize for our Logistic Regression is the regularization parameter C. In essence, C has an influence on the magnitude of the weights our model uses for each feature when calculating the loss function. Smaller C implies stronger regularization. Larger C implies less regularization. To learn more about regularization check out [these](http://statweb.stanford.edu/~tibs/sta305files/Rudyregularization.pdf) slides.\n",
    "\n",
    "\n",
    "To find the optimal C, we use a grid search, a method that tries out different values of C we provide to find the C that optimizes our model's performance. We then fit the model to the training set using the optimized value for C that has been found by the grid search."
   ]
  },
  {
   "cell_type": "code",
   "execution_count": 38,
   "metadata": {
    "_uuid": "0cf3dc9cbc8be65cf66994b196c630b0fed7e8da",
    "scrolled": true
   },
   "outputs": [
    {
     "data": {
      "text/plain": [
       "GridSearchCV(cv=KFold(n_splits=10, random_state=42, shuffle=False),\n",
       "       error_score='raise',\n",
       "       estimator=LogisticRegression(C=1.0, class_weight=None, dual=False, fit_intercept=True,\n",
       "          intercept_scaling=1, max_iter=100, multi_class='ovr', n_jobs=1,\n",
       "          penalty='l2', random_state=None, solver='liblinear', tol=0.0001,\n",
       "          verbose=0, warm_start=False),\n",
       "       fit_params=None, iid=True, n_jobs=1,\n",
       "       param_grid={'C': [0.0001, 0.001, 0.01, 1, 10, 100, 1000, 10000]},\n",
       "       pre_dispatch='2*n_jobs', refit=True, return_train_score='warn',\n",
       "       scoring=None, verbose=0)"
      ]
     },
     "execution_count": 38,
     "metadata": {},
     "output_type": "execute_result"
    }
   ],
   "source": [
    "# grid search to find optimal regularization parameter C\n",
    "\n",
    "from sklearn.model_selection import GridSearchCV\n",
    "\n",
    "param_grid = {'C': [0.0001, 0.001, 0.01, 1, 10, 100, 1000, 10000]}\n",
    "LR_grid = GridSearchCV(LR, param_grid, cv=cv)\n",
    "\n",
    "# fit model with optimized parameter C\n",
    "\n",
    "LR_grid.fit(X_train_scaled,y_train)"
   ]
  },
  {
   "cell_type": "markdown",
   "metadata": {
    "_uuid": "97632bc6bdc507fb7d7bb42263f472ef529553f3"
   },
   "source": [
    "The grid search found the optimal value for C to be 0.01."
   ]
  },
  {
   "cell_type": "code",
   "execution_count": 39,
   "metadata": {
    "_uuid": "f6598de54846461093bd8d3a14389dd12419fc9a"
   },
   "outputs": [
    {
     "name": "stdout",
     "output_type": "stream",
     "text": [
      "Optimal C found by grid search: C = 0.01\n"
     ]
    }
   ],
   "source": [
    "# best C\n",
    "\n",
    "print('Optimal C found by grid search: C =', LR_grid.best_params_['C'])"
   ]
  },
  {
   "cell_type": "markdown",
   "metadata": {
    "_uuid": "3024a064981e57474e237a6b602375a931e469f9"
   },
   "source": [
    "Now we can make predictions using our tuned model with C=0.01."
   ]
  },
  {
   "cell_type": "code",
   "execution_count": 40,
   "metadata": {
    "_uuid": "87f73f514da353bb663ae76b3c29765b18222982"
   },
   "outputs": [],
   "source": [
    "# make predictions with C=0.01\n",
    "\n",
    "y_pred_grid = LR_grid.predict(X_test_scaled)"
   ]
  },
  {
   "cell_type": "markdown",
   "metadata": {
    "_uuid": "b71f8a3703b5064eec59fdf3ced340d156924a36"
   },
   "source": [
    "Then, we again evaluate the predictions of our tuned model. We acctually find that all metrics deteriorated in comparison to our original model - except for precision which improved slightly. Unofortunately, the grid search and tuning C didn't improve the performance of our model."
   ]
  },
  {
   "cell_type": "code",
   "execution_count": 41,
   "metadata": {
    "_uuid": "4652efdd13f0ad091dd71503a5ead7ec4cbd8f1d"
   },
   "outputs": [
    {
     "name": "stdout",
     "output_type": "stream",
     "text": [
      "Accuracy: 79.66%\n",
      "\n",
      "\n",
      "AUC: 0.70\n",
      "\n",
      "\n",
      "Confusion matrix\n",
      "[[1552  159]\n",
      " [ 313  297]]\n",
      "\n",
      "\n",
      "Classification report\n",
      "             precision    recall  f1-score   support\n",
      "\n",
      "          0       0.83      0.91      0.87      1711\n",
      "          1       0.65      0.49      0.56       610\n",
      "\n",
      "avg / total       0.78      0.80      0.79      2321\n",
      "\n"
     ]
    }
   ],
   "source": [
    "# evaluate model\n",
    "\n",
    "accuracy_grid = accuracy_score(y_test, y_pred_grid)\n",
    "print('Accuracy: %.2f%%' % (accuracy_grid * 100.0))\n",
    "print('\\n')\n",
    "fpr_grid, tpr_grid, thresholds_grid = roc_curve(y_test, y_pred_grid)\n",
    "print('AUC: %.2f' % auc(fpr_grid, tpr_grid))\n",
    "print('\\n')\n",
    "print('Confusion matrix')\n",
    "print(confusion_matrix(y_test, y_pred_grid))\n",
    "print('\\n')\n",
    "print('Classification report')\n",
    "print(classification_report(y_test, y_pred_grid))"
   ]
  },
  {
   "cell_type": "markdown",
   "metadata": {
    "_uuid": "63cd746884e90639bd9ec43ec4020132b4d2ef1a"
   },
   "source": [
    "### **<a id='6'>6. Business impact</a>**"
   ]
  },
  {
   "cell_type": "markdown",
   "metadata": {
    "_uuid": "b6adcdec56c77e09b5d07a3d1a183d748bdea8dd"
   },
   "source": [
    "Now that we have cleaned our data, explored it and built and evaluated a churn prediction model it is time to assess the hypothetical business impact of our model. But first we need to clarify and prepare a couple things.\n",
    "\n",
    "\n",
    "The Logistic Regression model calculates probabilites for the classes and then uses a specific threshold to predict whether an observation belongs to one class or the other. In other words, the Logistic Regression model calculates for each observation the probability of belonging to one or the other class, e.g. 0.73 'churn' and 0.27 'not churn'. Using a threshold of 0.5, the Logistic Regression model then assigns an observation to the 'churn' class if the probability of belonging to this class is greater than 0.5 for this observation. The default threshold for our Logistic Regression model is 0.5 and next we will vary this threshold to see how the predictions change."
   ]
  },
  {
   "cell_type": "code",
   "execution_count": 42,
   "metadata": {
    "_uuid": "e36e0ed936273d1f01cfb9aba4ff52c8681c465b"
   },
   "outputs": [],
   "source": [
    "# set up list with different model thresholds and an empty cost variable\n",
    "\n",
    "thresh = np.arange(0.1,1.1,0.1).tolist()\n",
    "cost = [0] * 10"
   ]
  },
  {
   "cell_type": "code",
   "execution_count": 43,
   "metadata": {
    "_uuid": "d36f6331f6fab89dba24c9213cb66694baf63530"
   },
   "outputs": [],
   "source": [
    "# get probabilities of belonging to the 'churn' class\n",
    "\n",
    "probs = LR_grid.predict_proba(X_test_scaled)[:,0]"
   ]
  },
  {
   "cell_type": "code",
   "execution_count": 44,
   "metadata": {
    "_uuid": "018af31f7f9b6b86adcc7d141467fdccd43064d4"
   },
   "outputs": [],
   "source": [
    "# set up objects to store predictions for different thresholds\n",
    "\n",
    "thresh_1 = [0] * y_test.shape[0]\n",
    "thresh_2 = [0] * y_test.shape[0]\n",
    "thresh_3 = [0] * y_test.shape[0]\n",
    "thresh_4 = [0] * y_test.shape[0]\n",
    "thresh_5 = [0] * y_test.shape[0]\n",
    "thresh_6 = [0] * y_test.shape[0]\n",
    "thresh_7 = [0] * y_test.shape[0]\n",
    "thresh_8 = [0] * y_test.shape[0]\n",
    "thresh_9 = [0] * y_test.shape[0]\n",
    "thresh_10 = [0] * y_test.shape[0]"
   ]
  },
  {
   "cell_type": "code",
   "execution_count": 45,
   "metadata": {
    "_uuid": "d304a94df51b3419fe7a1faebf722fb7b4051aa8",
    "scrolled": true
   },
   "outputs": [],
   "source": [
    "# convert probabilities to binary predictions for different thresholds and store them in the respective lists\n",
    "\n",
    "for i in range(0,y_test.shape[0]):\n",
    "    if probs[i] > 0.1:\n",
    "        thresh_1[i] = 1\n",
    "    else:\n",
    "        thresh_1[i] = 0\n",
    "\n",
    "for i in range(0,y_test.shape[0]):\n",
    "    if probs[i] > 0.2:\n",
    "        thresh_2[i] = 1\n",
    "    else:\n",
    "        thresh_2[i] = 0\n",
    "\n",
    "for i in range(0,y_test.shape[0]):\n",
    "    if probs[i] > 0.3:\n",
    "        thresh_3[i] = 1\n",
    "    else:\n",
    "        thresh_3[i] = 0\n",
    "\n",
    "for i in range(0,y_test.shape[0]):\n",
    "    if probs[i] > 0.4:\n",
    "        thresh_4[i] = 1\n",
    "    else:\n",
    "        thresh_4[i] = 0\n",
    "\n",
    "for i in range(0,y_test.shape[0]):\n",
    "    if probs[i] > 0.5:\n",
    "        thresh_5[i] = 1\n",
    "    else:\n",
    "        thresh_5[i] = 0\n",
    "        \n",
    "for i in range(0,y_test.shape[0]):\n",
    "    if probs[i] > 0.6:\n",
    "        thresh_6[i] = 1\n",
    "    else:\n",
    "        thresh_6[i] = 0\n",
    "        \n",
    "for i in range(0,y_test.shape[0]):\n",
    "    if probs[i] > 0.7:\n",
    "        thresh_7[i] = 1\n",
    "    else:\n",
    "        thresh_7[i] = 0\n",
    "        \n",
    "for i in range(0,y_test.shape[0]):\n",
    "    if probs[i] > 0.8:\n",
    "        thresh_8[i] = 1\n",
    "    else:\n",
    "        thresh_8[i] = 0\n",
    "        \n",
    "for i in range(0,y_test.shape[0]):\n",
    "    if probs[i] > 0.9:\n",
    "        thresh_9[i] = 1\n",
    "    else:\n",
    "        thresh_9[i] = 0\n",
    "        \n",
    "for i in range(0,y_test.shape[0]):\n",
    "    if probs[i] > 1.0:\n",
    "        thresh_10[i] = 1\n",
    "    else:\n",
    "        thresh_10[i] = 0"
   ]
  },
  {
   "cell_type": "markdown",
   "metadata": {
    "_uuid": "c4dab9051e69ff4f985182dd9da39dc932bfa8b4"
   },
   "source": [
    "We have now predictions for 10 different thresholds ranging from 0.1 to 1.\n",
    "\n",
    "\n",
    "Next we calculate the hypothetical cost that we could save using our model for each of our 10 different thresholds. \n",
    "\n",
    "\n",
    "But first, we need some more assumptions. There are 3 cases:\n",
    "\n",
    "\n",
    "- We assume that acquiring a customer in the telco industry costs 250 dollars. So if we make a prediction that a customer won't churn, but that customer actually would churn, we would need to acquire a new one which would cost 250 dollars.\n",
    "- Let's assume that acquiring a new customer costs 5 times more than retaining an existing one, i.e. 50 dollars. This means that, if we predict that a customer will churn (no matter whether that customer actually would churn or not), we would need to spend 50 dollars to retain that customer.\n",
    "- If we predict a customer won't churn and that customer actually wouldn't churn we would have to spend 0 dollars.\n",
    "\n",
    "\n",
    "Let's translate this to what we had in our confusion matrix earlier:\n",
    "\n",
    "\n",
    "- **False negative**: predict 'no churn', customer would actually churn -> would cost 250 dollars\n",
    "- **True positive**: predict 'churn', customer would actually churn -> would cost 50 dollars\n",
    "- **False positive**: predict 'churn', customer wouldn't actually churn -> would cost 50 dollars\n",
    "- **True negative**: predict 'no churn', customer wouldn't actually churn -> would cost 0 dollars\n",
    "\n",
    "Let's calculate the hypothetical cost per customer for each treshold based on our assumptions."
   ]
  },
  {
   "cell_type": "code",
   "execution_count": 46,
   "metadata": {
    "_uuid": "390746e97eb4bce72617cfe2f4c8e4dcd0b5a663"
   },
   "outputs": [],
   "source": [
    "# calculate hypothetical cost per customer depending on the model threshold and store it in the cost list\n",
    "\n",
    "cf = confusion_matrix(thresh_1,y_test)\n",
    "TP = cf[0][0]/X_test_scaled.shape[0]\n",
    "FP = cf[1][0]/X_test_scaled.shape[0]\n",
    "FN = cf[0][1]/X_test_scaled.shape[0]\n",
    "TN = cf[1][1]/X_test_scaled.shape[0]\n",
    "cost[0] = FN*250 + TP*50 + FP*50 + TN*0\n",
    "\n",
    "cf = confusion_matrix(thresh_2,y_test)\n",
    "TP = cf[0][0]/X_test_scaled.shape[0]\n",
    "FP = cf[1][0]/X_test_scaled.shape[0]\n",
    "FN = cf[0][1]/X_test_scaled.shape[0]\n",
    "TN = cf[1][1]/X_test_scaled.shape[0]\n",
    "cost[1] = FN*250 + TP*50 + FP*50 + TN*0\n",
    "\n",
    "cf = confusion_matrix(thresh_3,y_test)\n",
    "TP = cf[0][0]/X_test_scaled.shape[0]\n",
    "FP = cf[1][0]/X_test_scaled.shape[0]\n",
    "FN = cf[0][1]/X_test_scaled.shape[0]\n",
    "TN = cf[1][1]/X_test_scaled.shape[0]\n",
    "cost[2] = FN*250 + TP*50 + FP*50 + TN*0\n",
    "\n",
    "cf = confusion_matrix(thresh_4,y_test)\n",
    "TP = cf[0][0]/X_test_scaled.shape[0]\n",
    "FP = cf[1][0]/X_test_scaled.shape[0]\n",
    "FN = cf[0][1]/X_test_scaled.shape[0]\n",
    "TN = cf[1][1]/X_test_scaled.shape[0]\n",
    "cost[3] = FN*250 + TP*50 + FP*50 + TN*0\n",
    "\n",
    "cf = confusion_matrix(thresh_5,y_test)\n",
    "TP = cf[0][0]/X_test_scaled.shape[0]\n",
    "FP = cf[1][0]/X_test_scaled.shape[0]\n",
    "FN = cf[0][1]/X_test_scaled.shape[0]\n",
    "TN = cf[1][1]/X_test_scaled.shape[0]\n",
    "cost[4] = FN*250 + TP*50 + FP*50 + TN*0\n",
    "\n",
    "cf = confusion_matrix(thresh_6,y_test)\n",
    "TP = cf[0][0]/X_test_scaled.shape[0]\n",
    "FP = cf[1][0]/X_test_scaled.shape[0]\n",
    "FN = cf[0][1]/X_test_scaled.shape[0]\n",
    "TN = cf[1][1]/X_test_scaled.shape[0]\n",
    "cost[5] = FN*250 + TP*50 + FP*50 + TN*0\n",
    "\n",
    "cf = confusion_matrix(thresh_7,y_test)\n",
    "TP = cf[0][0]/X_test_scaled.shape[0]\n",
    "FP = cf[1][0]/X_test_scaled.shape[0]\n",
    "FN = cf[0][1]/X_test_scaled.shape[0]\n",
    "TN = cf[1][1]/X_test_scaled.shape[0]\n",
    "cost[6] = FN*250 + TP*50 + FP*50 + TN*0\n",
    "\n",
    "cf = confusion_matrix(thresh_8,y_test)\n",
    "TP = cf[0][0]/X_test_scaled.shape[0]\n",
    "FP = cf[1][0]/X_test_scaled.shape[0]\n",
    "FN = cf[0][1]/X_test_scaled.shape[0]\n",
    "TN = cf[1][1]/X_test_scaled.shape[0]\n",
    "cost[7] = FN*250 + TP*50 + FP*50 + TN*0\n",
    "\n",
    "cf = confusion_matrix(thresh_9,y_test)\n",
    "TP = cf[0][0]/X_test_scaled.shape[0]\n",
    "FP = cf[1][0]/X_test_scaled.shape[0]\n",
    "FN = cf[0][1]/X_test_scaled.shape[0]\n",
    "TN = cf[1][1]/X_test_scaled.shape[0]\n",
    "cost[8] = FN*250 + TP*50 + FP*50 + TN*0\n",
    "\n",
    "cf = confusion_matrix(thresh_10,y_test)\n",
    "TP = cf[0][0]/X_test_scaled.shape[0]\n",
    "FP = cf[1][0]/X_test_scaled.shape[0]\n",
    "FN = cf[0][1]/X_test_scaled.shape[0]\n",
    "TN = cf[1][1]/X_test_scaled.shape[0]\n",
    "cost[9] = FN*250 + TP*50 + FP*50 + TN*0"
   ]
  },
  {
   "cell_type": "markdown",
   "metadata": {
    "_uuid": "f60d1fbb5af67d1eec4f55bd4eaec1f7e6ee37a2"
   },
   "source": [
    "Below is the list of the cost per customer associated with the different thresholds. It seems like the cost per customer rises with the treshold."
   ]
  },
  {
   "cell_type": "code",
   "execution_count": 47,
   "metadata": {
    "_uuid": "b28cb3831a268489a108a4dbca08644446748582"
   },
   "outputs": [
    {
     "name": "stdout",
     "output_type": "stream",
     "text": [
      "cost per customer\n"
     ]
    },
    {
     "data": {
      "text/plain": [
       "[36.85911245152951,\n",
       " 36.96682464454976,\n",
       " 45.260663507109,\n",
       " 57.10900473933649,\n",
       " 68.84963377854373,\n",
       " 81.02111158983197,\n",
       " 87.69926755708747,\n",
       " 93.51572598018095,\n",
       " 100.5170185264972,\n",
       " 102.56355019388195]"
      ]
     },
     "execution_count": 47,
     "metadata": {},
     "output_type": "execute_result"
    }
   ],
   "source": [
    "print('cost per customer')\n",
    "cost"
   ]
  },
  {
   "cell_type": "markdown",
   "metadata": {
    "_uuid": "fc066ae8187042dae570f7c83ed7c4e619024645"
   },
   "source": [
    "Let's plot the cost per customer for a more visual insight. The cost per customer appears to increas as the threshold increases."
   ]
  },
  {
   "cell_type": "code",
   "execution_count": 48,
   "metadata": {
    "_uuid": "bcf445b1e7666199916b15cdda0bc723184b0841",
    "scrolled": true
   },
   "outputs": [
    {
     "data": {
      "image/png": "[encoded data removed]",
      "text/plain": [
       "<matplotlib.figure.Figure at 0x216d9deea90>"
      ]
     },
     "metadata": {
      "needs_background": "light"
     },
     "output_type": "display_data"
    }
   ],
   "source": [
    "# plot hypothetical cost for different thresholds\n",
    "\n",
    "import matplotlib.pyplot as plt\n",
    "\n",
    "plt.plot(thresh,cost)\n",
    "plt.title('cost per customer for different model thresholds')\n",
    "plt.xlabel('threshold')\n",
    "plt.ylabel('cost per customer')\n",
    "plt.show()"
   ]
  },
  {
   "cell_type": "markdown",
   "metadata": {
    "_uuid": "dca95bfc976ce3c072ab4254001c1ddb7cb26360"
   },
   "source": [
    "Let's further assume that the model that is currently in use in the telco company applies a threshold of 0.5. The cost per customer associated with this model is about 81 dollars."
   ]
  },
  {
   "cell_type": "code",
   "execution_count": 49,
   "metadata": {
    "_uuid": "0ecd2aa1dc9bf0104c49b08be0da120187024c40"
   },
   "outputs": [
    {
     "data": {
      "text/plain": [
       "81.02111158983197"
      ]
     },
     "execution_count": 49,
     "metadata": {},
     "output_type": "execute_result"
    }
   ],
   "source": [
    "# assume that model with threshold=0.5 is currently used, calculate associated cost\n",
    "\n",
    "cost_current_model = cost[5]\n",
    "cost_current_model"
   ]
  },
  {
   "cell_type": "markdown",
   "metadata": {
    "_uuid": "03e0cf9045dbb9dfae98ae9ef2190d6b68a5e236"
   },
   "source": [
    "Then, let's calculate the hypothetical savings per customer our optimal model could achieve as the difference between the cost per customer associated with the currently used model and the model with the optimal threshold. The savings per customer are about 44 dollars."
   ]
  },
  {
   "cell_type": "code",
   "execution_count": 50,
   "metadata": {
    "_uuid": "f7e4b55aebd0c6d5ce458d681bdaa0f87c0cacde"
   },
   "outputs": [
    {
     "data": {
      "text/plain": [
       "44.16199913830246"
      ]
     },
     "execution_count": 50,
     "metadata": {},
     "output_type": "execute_result"
    }
   ],
   "source": [
    "# calculate hypothetical savings per customer as the difference between the currently used model and the optimal model\n",
    "\n",
    "savings_per_customer = cost_current_model - min(cost)\n",
    "savings_per_customer"
   ]
  },
  {
   "cell_type": "markdown",
   "metadata": {
    "_uuid": "473814aee1e94b9eb8b5807564861d86943d5607"
   },
   "source": [
    "To calculate the total hypothetical cost savings we assume that we have a customer base of 350000 customers. The total hypothetical cost savings are then equal to about 15 mn dollars."
   ]
  },
  {
   "cell_type": "code",
   "execution_count": 51,
   "metadata": {
    "_uuid": "be83d84d0a54f224038af542affe4a69df21c0a4"
   },
   "outputs": [
    {
     "data": {
      "text/plain": [
       "15456699.698405862"
      ]
     },
     "execution_count": 51,
     "metadata": {},
     "output_type": "execute_result"
    }
   ],
   "source": [
    "# assume a customer base of 350000, multiply by savings per customer to get total savings\n",
    "total_savings = 350000*savings_per_customer\n",
    "total_savings"
   ]
  },
  {
   "cell_type": "markdown",
   "metadata": {
    "_uuid": "464223143146f56c12bc1b2dec50b63e57792bdc"
   },
   "source": [
    "### **<a id='7'>7. Summary</a>**"
   ]
  },
  {
   "cell_type": "markdown",
   "metadata": {
    "_uuid": "8b2c36879e45e4995cd5aa680019797d85db51dd"
   },
   "source": [
    "In this kernel we cleaned and explored data form the telecommunication industry, built a churn prediction model and showed the hypothetical business impact it could have by estimating the hypothetical cost savings that such a model could achieve.\n",
    "\n",
    "\n",
    "The hypothetical cost savings may seem extraordinally high, the assumptions overly simplistic, and there are many elements of this work that could be improved (e.g. the model itself, feature enginering, feature selection etc.), but this kernel was simply meant to show what could be possibly done with quite simply measures and methods to actually have an impact on business through Data Science and Machine Learning. \n",
    "\n",
    "\n",
    "Any feedback is highly appreciated and warmly welcome. Thank you!"
   ]
  }
 ],
 "metadata": {
  "kernelspec": {
   "display_name": "Python 3",
   "language": "python",
   "name": "python3"
  },
  "language_info": {
   "codemirror_mode": {
    "name": "ipython",
    "version": 3
   },
   "file_extension": ".py",
   "mimetype": "text/x-python",
   "name": "python",
   "nbconvert_exporter": "python",
   "pygments_lexer": "ipython3",
   "version": "3.6.6"
  }
 },
 "nbformat": 4,
 "nbformat_minor": 1
}
